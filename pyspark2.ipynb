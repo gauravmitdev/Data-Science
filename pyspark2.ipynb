{
 "cells": [
  {
   "cell_type": "code",
   "execution_count": 2,
   "id": "a40ddeae-78fa-4a4f-80e7-7a2039d4feb9",
   "metadata": {},
   "outputs": [],
   "source": [
    "import pyspark\n",
    "from pyspark.sql import SparkSession\n",
    "spark = SparkSession.builder.appName(\"pyspark\").getOrCreate()"
   ]
  },
  {
   "cell_type": "code",
   "execution_count": 3,
   "id": "1e00e12a-c993-4d94-a0e9-8af4d864590a",
   "metadata": {},
   "outputs": [
    {
     "data": {
      "text/html": [
       "\n",
       "            <div>\n",
       "                <p><b>SparkSession - in-memory</b></p>\n",
       "                \n",
       "        <div>\n",
       "            <p><b>SparkContext</b></p>\n",
       "\n",
       "            <p><a href=\"http://DESKTOP-110V3UT.mshome.net:4044\">Spark UI</a></p>\n",
       "\n",
       "            <dl>\n",
       "              <dt>Version</dt>\n",
       "                <dd><code>v3.3.0</code></dd>\n",
       "              <dt>Master</dt>\n",
       "                <dd><code>local[*]</code></dd>\n",
       "              <dt>AppName</dt>\n",
       "                <dd><code>pyspark</code></dd>\n",
       "            </dl>\n",
       "        </div>\n",
       "        \n",
       "            </div>\n",
       "        "
      ],
      "text/plain": [
       "<pyspark.sql.session.SparkSession at 0x241090b7c70>"
      ]
     },
     "execution_count": 3,
     "metadata": {},
     "output_type": "execute_result"
    }
   ],
   "source": [
    "spark"
   ]
  },
  {
   "cell_type": "code",
   "execution_count": 4,
   "id": "df1ef54a-f710-43e3-9eb7-207a1dbecec7",
   "metadata": {},
   "outputs": [
    {
     "data": {
      "text/plain": [
       "DataFrame[Name: string, Age: string, Roll_no.: string]"
      ]
     },
     "execution_count": 4,
     "metadata": {},
     "output_type": "execute_result"
    }
   ],
   "source": [
    "df_pyspark = spark.read.option('header','true').csv('tset.csv')\n",
    "df_pyspark"
   ]
  },
  {
   "cell_type": "code",
   "execution_count": 5,
   "id": "f82850b9-04ac-4080-a272-deea584d4507",
   "metadata": {},
   "outputs": [
    {
     "name": "stdout",
     "output_type": "stream",
     "text": [
      "+-------+---+--------+\n",
      "|   Name|Age|Roll_no.|\n",
      "+-------+---+--------+\n",
      "| Gaurav| 26|      25|\n",
      "|  Swami| 25|      12|\n",
      "|    Dep| 22|      13|\n",
      "|  Sunny| 23|      15|\n",
      "|Bhawesh| 32|      18|\n",
      "+-------+---+--------+\n",
      "\n"
     ]
    }
   ],
   "source": [
    "df_pyspark.show()"
   ]
  },
  {
   "cell_type": "code",
   "execution_count": 6,
   "id": "abbed116-d2c4-43fe-8110-9dd4365f3a47",
   "metadata": {},
   "outputs": [
    {
     "name": "stdout",
     "output_type": "stream",
     "text": [
      "root\n",
      " |-- Name: string (nullable = true)\n",
      " |-- Age: string (nullable = true)\n",
      " |-- Roll_no.: string (nullable = true)\n",
      "\n"
     ]
    }
   ],
   "source": [
    "df_pyspark.printSchema()"
   ]
  },
  {
   "cell_type": "code",
   "execution_count": 13,
   "id": "df3b41b0-8349-4f15-bce0-2b48af95959f",
   "metadata": {},
   "outputs": [
    {
     "name": "stdout",
     "output_type": "stream",
     "text": [
      "+-------+---+--------+\n",
      "|   Name|Age|Roll_no.|\n",
      "+-------+---+--------+\n",
      "| Gaurav| 26|      25|\n",
      "|  Swami| 25|      12|\n",
      "|    Dep| 22|      13|\n",
      "|  Sunny| 23|      15|\n",
      "|Bhawesh| 32|      18|\n",
      "+-------+---+--------+\n",
      "\n"
     ]
    }
   ],
   "source": [
    "df_pyspark = spark.read.csv('tset.csv',header=True,inferSchema=True)\n",
    "df_pyspark.show()"
   ]
  },
  {
   "cell_type": "code",
   "execution_count": 15,
   "id": "98f181e8-e5a9-40b3-be73-e554ba86f275",
   "metadata": {},
   "outputs": [
    {
     "data": {
      "text/plain": [
       "pyspark.sql.dataframe.DataFrame"
      ]
     },
     "execution_count": 15,
     "metadata": {},
     "output_type": "execute_result"
    }
   ],
   "source": [
    "type(df_pyspark)"
   ]
  },
  {
   "cell_type": "code",
   "execution_count": 18,
   "id": "a0d52b67-38a0-43df-91fe-81f5d85d925d",
   "metadata": {},
   "outputs": [],
   "source": [
    "############# data frame is data structure\n",
    "#-- nothing else|"
   ]
  },
  {
   "cell_type": "code",
   "execution_count": 20,
   "id": "61296bd5-4f5b-43c7-a778-48c7a6a569e8",
   "metadata": {},
   "outputs": [
    {
     "data": {
      "text/plain": [
       "[Row(Name='Gaurav', Age=26, Roll_no.=25),\n",
       " Row(Name='Swami', Age=25, Roll_no.=12),\n",
       " Row(Name='Dep', Age=22, Roll_no.=13)]"
      ]
     },
     "execution_count": 20,
     "metadata": {},
     "output_type": "execute_result"
    }
   ],
   "source": [
    "df_pyspark.head(3)"
   ]
  },
  {
   "cell_type": "code",
   "execution_count": 22,
   "id": "1d07faef-b937-4443-915d-4a82d4e4c5c0",
   "metadata": {},
   "outputs": [
    {
     "name": "stdout",
     "output_type": "stream",
     "text": [
      "+-------+\n",
      "|   Name|\n",
      "+-------+\n",
      "| Gaurav|\n",
      "|  Swami|\n",
      "|    Dep|\n",
      "|  Sunny|\n",
      "|Bhawesh|\n",
      "+-------+\n",
      "\n"
     ]
    }
   ],
   "source": [
    "df_pyspark.select('Name').show()"
   ]
  },
  {
   "cell_type": "code",
   "execution_count": 24,
   "id": "56da9da0-5ca7-4e30-86f8-a0cee1a40f58",
   "metadata": {},
   "outputs": [
    {
     "name": "stdout",
     "output_type": "stream",
     "text": [
      "+-------+---+\n",
      "|   Name|Age|\n",
      "+-------+---+\n",
      "| Gaurav| 26|\n",
      "|  Swami| 25|\n",
      "|    Dep| 22|\n",
      "|  Sunny| 23|\n",
      "|Bhawesh| 32|\n",
      "+-------+---+\n",
      "\n"
     ]
    }
   ],
   "source": [
    "df_pyspark.select(['Name','Age']).show()"
   ]
  },
  {
   "cell_type": "code",
   "execution_count": 25,
   "id": "01d7db2c-f702-4cdc-907a-b02ea817a0d7",
   "metadata": {},
   "outputs": [
    {
     "data": {
      "text/plain": [
       "Column<'Name'>"
      ]
     },
     "execution_count": 25,
     "metadata": {},
     "output_type": "execute_result"
    }
   ],
   "source": [
    "df_pyspark['Name']"
   ]
  },
  {
   "cell_type": "code",
   "execution_count": 27,
   "id": "c5180f00-a2fd-4d0d-b663-399439980f03",
   "metadata": {},
   "outputs": [
    {
     "data": {
      "text/plain": [
       "DataFrame[Age: int, Name: string]"
      ]
     },
     "execution_count": 27,
     "metadata": {},
     "output_type": "execute_result"
    }
   ],
   "source": [
    "df_pyspark['Age','Name']"
   ]
  },
  {
   "cell_type": "code",
   "execution_count": 28,
   "id": "93bbcc34-831c-4b01-b6cf-3829babb0e76",
   "metadata": {},
   "outputs": [
    {
     "data": {
      "text/plain": [
       "DataFrame[summary: string, Name: string, Age: string, Roll_no.: string]"
      ]
     },
     "execution_count": 28,
     "metadata": {},
     "output_type": "execute_result"
    }
   ],
   "source": [
    "df_pyspark.describe()"
   ]
  },
  {
   "cell_type": "code",
   "execution_count": 29,
   "id": "ae1f1778-38e4-4102-8706-1c82b6541584",
   "metadata": {},
   "outputs": [
    {
     "name": "stdout",
     "output_type": "stream",
     "text": [
      "+-------+-------+------------------+-----------------+\n",
      "|summary|   Name|               Age|         Roll_no.|\n",
      "+-------+-------+------------------+-----------------+\n",
      "|  count|      5|                 5|                5|\n",
      "|   mean|   null|              25.6|             16.6|\n",
      "| stddev|   null|3.9115214431215892|5.224940191045253|\n",
      "|    min|Bhawesh|                22|               12|\n",
      "|    max|  Swami|                32|               25|\n",
      "+-------+-------+------------------+-----------------+\n",
      "\n"
     ]
    }
   ],
   "source": [
    "df_pyspark.describe().show()"
   ]
  },
  {
   "cell_type": "code",
   "execution_count": 34,
   "id": "00b49e19-51da-404a-9c82-854f833623e5",
   "metadata": {},
   "outputs": [
    {
     "data": {
      "text/plain": [
       "DataFrame[Name: string, Age: int, Roll_no.: int, After 2 Year: int]"
      ]
     },
     "execution_count": 34,
     "metadata": {},
     "output_type": "execute_result"
    }
   ],
   "source": [
    "#### Ading columns\n",
    "df_pyspark = df_pyspark.withColumn('After 2 Year',df_pyspark['Age']+2)\n",
    "df_pyspark"
   ]
  },
  {
   "cell_type": "code",
   "execution_count": 35,
   "id": "d54431aa-1180-4e6c-a14c-f5d5de61a49b",
   "metadata": {},
   "outputs": [
    {
     "name": "stdout",
     "output_type": "stream",
     "text": [
      "+-------+---+--------+------------+\n",
      "|   Name|Age|Roll_no.|After 2 Year|\n",
      "+-------+---+--------+------------+\n",
      "| Gaurav| 26|      25|          28|\n",
      "|  Swami| 25|      12|          27|\n",
      "|    Dep| 22|      13|          24|\n",
      "|  Sunny| 23|      15|          25|\n",
      "|Bhawesh| 32|      18|          34|\n",
      "+-------+---+--------+------------+\n",
      "\n"
     ]
    }
   ],
   "source": [
    "df_pyspark.show()"
   ]
  },
  {
   "cell_type": "code",
   "execution_count": 36,
   "id": "6e757d09-4fd8-4eec-b5a1-4b5b91feff04",
   "metadata": {},
   "outputs": [],
   "source": [
    "#### Drop the Columns"
   ]
  },
  {
   "cell_type": "code",
   "execution_count": 37,
   "id": "b2a95fdb-1d0e-494e-be5f-a562dae9268c",
   "metadata": {},
   "outputs": [
    {
     "data": {
      "text/plain": [
       "DataFrame[Name: string, Age: int, Roll_no.: int]"
      ]
     },
     "execution_count": 37,
     "metadata": {},
     "output_type": "execute_result"
    }
   ],
   "source": [
    "df_pyspark = df_pyspark.drop('After 2 Year')\n",
    "df_pyspark"
   ]
  },
  {
   "cell_type": "code",
   "execution_count": 38,
   "id": "f0896d1b-7889-49c7-8db9-8288baa5d157",
   "metadata": {},
   "outputs": [
    {
     "name": "stdout",
     "output_type": "stream",
     "text": [
      "+-------+---+--------+\n",
      "|   Name|Age|Roll_no.|\n",
      "+-------+---+--------+\n",
      "| Gaurav| 26|      25|\n",
      "|  Swami| 25|      12|\n",
      "|    Dep| 22|      13|\n",
      "|  Sunny| 23|      15|\n",
      "|Bhawesh| 32|      18|\n",
      "+-------+---+--------+\n",
      "\n"
     ]
    }
   ],
   "source": [
    "df_pyspark.show()"
   ]
  },
  {
   "cell_type": "code",
   "execution_count": 39,
   "id": "dcf9a405-50fb-473f-970f-95aed664e39e",
   "metadata": {},
   "outputs": [],
   "source": [
    "##### Rename the Column"
   ]
  },
  {
   "cell_type": "code",
   "execution_count": 42,
   "id": "bad26f7f-166c-4873-8215-2c7185862e7b",
   "metadata": {},
   "outputs": [
    {
     "data": {
      "text/plain": [
       "DataFrame[Student Name: string, Age: int, Roll_no.: int]"
      ]
     },
     "execution_count": 42,
     "metadata": {},
     "output_type": "execute_result"
    }
   ],
   "source": [
    "df_pyspark = df_pyspark.withColumnRenamed('Name','Student Name')\n",
    "df_pyspark"
   ]
  },
  {
   "cell_type": "code",
   "execution_count": 7,
   "id": "251b7abf-efa1-4e36-ad94-470b4206dd4b",
   "metadata": {},
   "outputs": [
    {
     "name": "stdout",
     "output_type": "stream",
     "text": [
      "+-------+---+--------+\n",
      "|   Name|Age|Roll_no.|\n",
      "+-------+---+--------+\n",
      "| Gaurav| 26|      25|\n",
      "|  Swami| 25|      12|\n",
      "|    Dep| 22|      13|\n",
      "|  Sunny| 23|      15|\n",
      "|Bhawesh| 32|      18|\n",
      "+-------+---+--------+\n",
      "\n"
     ]
    }
   ],
   "source": [
    "df_pyspark.show()"
   ]
  },
  {
   "cell_type": "code",
   "execution_count": null,
   "id": "8b4b1d23-72a8-4c1a-bde0-939c8428bf85",
   "metadata": {},
   "outputs": [],
   "source": []
  }
 ],
 "metadata": {
  "kernelspec": {
   "display_name": "Python 3 (ipykernel)",
   "language": "python",
   "name": "python3"
  },
  "language_info": {
   "codemirror_mode": {
    "name": "ipython",
    "version": 3
   },
   "file_extension": ".py",
   "mimetype": "text/x-python",
   "name": "python",
   "nbconvert_exporter": "python",
   "pygments_lexer": "ipython3",
   "version": "3.10.4"
  },
  "vscode": {
   "interpreter": {
    "hash": "83ba7b0f9d7d443d91d884e96beb70d2a5a2a5e81bbda7ff30d9851e68af758a"
   }
  }
 },
 "nbformat": 4,
 "nbformat_minor": 5
}
