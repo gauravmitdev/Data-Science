{
 "cells": [
  {
   "cell_type": "markdown",
   "id": "9f90728b-f08e-4e6e-84e2-a9980a357882",
   "metadata": {},
   "source": [
    "### Pyspark Tutorials Mlib"
   ]
  },
  {
   "cell_type": "code",
   "execution_count": 1,
   "id": "f9ab2c5c-b3b5-4b67-ad13-4573125839c0",
   "metadata": {},
   "outputs": [
    {
     "data": {
      "text/html": [
       "\n",
       "            <div>\n",
       "                <p><b>SparkSession - in-memory</b></p>\n",
       "                \n",
       "        <div>\n",
       "            <p><b>SparkContext</b></p>\n",
       "\n",
       "            <p><a href=\"http://DESKTOP-110V3UT.mshome.net:4040\">Spark UI</a></p>\n",
       "\n",
       "            <dl>\n",
       "              <dt>Version</dt>\n",
       "                <dd><code>v3.3.0</code></dd>\n",
       "              <dt>Master</dt>\n",
       "                <dd><code>local[*]</code></dd>\n",
       "              <dt>AppName</dt>\n",
       "                <dd><code>pyspark6</code></dd>\n",
       "            </dl>\n",
       "        </div>\n",
       "        \n",
       "            </div>\n",
       "        "
      ],
      "text/plain": [
       "<pyspark.sql.session.SparkSession at 0x1f4ffdb4970>"
      ]
     },
     "execution_count": 1,
     "metadata": {},
     "output_type": "execute_result"
    }
   ],
   "source": [
    "from pyspark.sql import SparkSession\n",
    "spark = SparkSession.builder.appName(\"pyspark6\").getOrCreate()\n",
    "spark"
   ]
  },
  {
   "cell_type": "code",
   "execution_count": 2,
   "id": "ab0dc640-a00a-4f27-bc48-4de74ff223d6",
   "metadata": {},
   "outputs": [
    {
     "name": "stdout",
     "output_type": "stream",
     "text": [
      "+-------+---+-----------+------+\n",
      "|   Name|Age|Experiances|Salary|\n",
      "+-------+---+-----------+------+\n",
      "|Vaibhav| 31|          4| 30000|\n",
      "|  Lrish| 25|          6| 15000|\n",
      "|  Vikas| 29|         12| 20000|\n",
      "| Gaurav| 39|          9| 60000|\n",
      "| Kailas| 34|         15|  3000|\n",
      "|Bhavesh| 30|          3|  1500|\n",
      "|  Vidhi| 21|          6|  4000|\n",
      "|  Sunny| 29|          9|  9000|\n",
      "|   Paul| 24|          4|  7000|\n",
      "|  Harsa| 29|          5|  6000|\n",
      "|Shubham| 41|          2|  1000|\n",
      "+-------+---+-----------+------+\n",
      "\n"
     ]
    }
   ],
   "source": [
    "training = spark.read.csv('test4.csv',header=True,inferSchema=True)\n",
    "training.show()"
   ]
  },
  {
   "cell_type": "code",
   "execution_count": 3,
   "id": "0c8c3c47-a71f-4888-82ac-76a161b704b0",
   "metadata": {},
   "outputs": [
    {
     "name": "stdout",
     "output_type": "stream",
     "text": [
      "root\n",
      " |-- Name: string (nullable = true)\n",
      " |-- Age: integer (nullable = true)\n",
      " |-- Experiances: integer (nullable = true)\n",
      " |-- Salary: integer (nullable = true)\n",
      "\n"
     ]
    }
   ],
   "source": [
    "training.printSchema()"
   ]
  },
  {
   "cell_type": "code",
   "execution_count": 4,
   "id": "b5d072d4-582f-4f08-b404-f2f58d541294",
   "metadata": {},
   "outputs": [
    {
     "data": {
      "text/plain": [
       "['Name', 'Age', 'Experiances', 'Salary']"
      ]
     },
     "execution_count": 4,
     "metadata": {},
     "output_type": "execute_result"
    }
   ],
   "source": [
    "training.columns"
   ]
  },
  {
   "cell_type": "markdown",
   "id": "d82155b5-69e4-4904-b32b-5eb78b8f1970",
   "metadata": {},
   "source": [
    "[Age,Experiances] ---> new feature ---> independ fetaure"
   ]
  },
  {
   "cell_type": "code",
   "execution_count": 5,
   "id": "6756c79c-bec1-4ca3-b3f1-144736bac123",
   "metadata": {},
   "outputs": [],
   "source": [
    "from pyspark.ml.feature import VectorAssembler\n",
    "featureassembler = VectorAssembler(inputCols=[\"Age\",\"Experiances\"],outputCol=\"Independent Features\")"
   ]
  },
  {
   "cell_type": "code",
   "execution_count": 6,
   "id": "d15a742f-d3a5-43cf-8e1a-fcd20961f956",
   "metadata": {},
   "outputs": [
    {
     "data": {
      "text/plain": [
       "VectorAssembler_f724cd49ffc7"
      ]
     },
     "execution_count": 6,
     "metadata": {},
     "output_type": "execute_result"
    }
   ],
   "source": [
    "featureassembler"
   ]
  },
  {
   "cell_type": "code",
   "execution_count": 7,
   "id": "b720dcf0-6044-434d-a2cb-c87958ed6e92",
   "metadata": {},
   "outputs": [],
   "source": [
    "output = featureassembler.transform(training)"
   ]
  },
  {
   "cell_type": "code",
   "execution_count": 8,
   "id": "30895d78-e464-4c07-81fb-46ea24226980",
   "metadata": {},
   "outputs": [
    {
     "name": "stdout",
     "output_type": "stream",
     "text": [
      "+-------+---+-----------+------+--------------------+\n",
      "|   Name|Age|Experiances|Salary|Independent Features|\n",
      "+-------+---+-----------+------+--------------------+\n",
      "|Vaibhav| 31|          4| 30000|          [31.0,4.0]|\n",
      "|  Lrish| 25|          6| 15000|          [25.0,6.0]|\n",
      "|  Vikas| 29|         12| 20000|         [29.0,12.0]|\n",
      "| Gaurav| 39|          9| 60000|          [39.0,9.0]|\n",
      "| Kailas| 34|         15|  3000|         [34.0,15.0]|\n",
      "|Bhavesh| 30|          3|  1500|          [30.0,3.0]|\n",
      "|  Vidhi| 21|          6|  4000|          [21.0,6.0]|\n",
      "|  Sunny| 29|          9|  9000|          [29.0,9.0]|\n",
      "|   Paul| 24|          4|  7000|          [24.0,4.0]|\n",
      "|  Harsa| 29|          5|  6000|          [29.0,5.0]|\n",
      "|Shubham| 41|          2|  1000|          [41.0,2.0]|\n",
      "+-------+---+-----------+------+--------------------+\n",
      "\n"
     ]
    }
   ],
   "source": [
    "output.show()"
   ]
  },
  {
   "cell_type": "code",
   "execution_count": 9,
   "id": "77c2003e-7e9d-4fa0-9d06-5d4a111ae15c",
   "metadata": {},
   "outputs": [
    {
     "data": {
      "text/plain": [
       "['Name', 'Age', 'Experiances', 'Salary', 'Independent Features']"
      ]
     },
     "execution_count": 9,
     "metadata": {},
     "output_type": "execute_result"
    }
   ],
   "source": [
    "output.columns"
   ]
  },
  {
   "cell_type": "code",
   "execution_count": 10,
   "id": "6188ffca-41df-41e3-9b05-c69eb29b79cc",
   "metadata": {},
   "outputs": [],
   "source": [
    "finalized_data = output.select(\"Independent Features\",\"Salary\")"
   ]
  },
  {
   "cell_type": "code",
   "execution_count": 11,
   "id": "9ef431c5-0685-4c63-88e9-2d47ab5518a8",
   "metadata": {},
   "outputs": [
    {
     "name": "stdout",
     "output_type": "stream",
     "text": [
      "+--------------------+------+\n",
      "|Independent Features|Salary|\n",
      "+--------------------+------+\n",
      "|          [31.0,4.0]| 30000|\n",
      "|          [25.0,6.0]| 15000|\n",
      "|         [29.0,12.0]| 20000|\n",
      "|          [39.0,9.0]| 60000|\n",
      "|         [34.0,15.0]|  3000|\n",
      "|          [30.0,3.0]|  1500|\n",
      "|          [21.0,6.0]|  4000|\n",
      "|          [29.0,9.0]|  9000|\n",
      "|          [24.0,4.0]|  7000|\n",
      "|          [29.0,5.0]|  6000|\n",
      "|          [41.0,2.0]|  1000|\n",
      "+--------------------+------+\n",
      "\n"
     ]
    }
   ],
   "source": [
    "finalized_data.show()"
   ]
  },
  {
   "cell_type": "code",
   "execution_count": 12,
   "id": "059a1764-3a6b-4e81-b3b2-41ea08628141",
   "metadata": {},
   "outputs": [],
   "source": [
    "from pyspark.ml.regression import LinearRegression\n",
    "\n",
    "# train test split\n",
    "\n",
    "train_data,test_data=finalized_data.randomSplit([0.75,0.25])\n",
    "regressor = LinearRegression(featuresCol=\"Independent Features\", labelCol=\"Salary\")\n",
    "regressor = regressor.fit(train_data)"
   ]
  },
  {
   "cell_type": "code",
   "execution_count": 13,
   "id": "5cc865bd-adcd-4a4e-97f6-ce9649e2e4b0",
   "metadata": {},
   "outputs": [
    {
     "data": {
      "text/plain": [
       "DenseVector([-230.2158, -278.2258])"
      ]
     },
     "execution_count": 13,
     "metadata": {},
     "output_type": "execute_result"
    }
   ],
   "source": [
    "### Coefficients\n",
    "\n",
    "regressor.coefficients"
   ]
  },
  {
   "cell_type": "code",
   "execution_count": 14,
   "id": "5282aa16-2cf8-4248-b3e7-59915d0d0384",
   "metadata": {},
   "outputs": [
    {
     "data": {
      "text/plain": [
       "16922.352440628223"
      ]
     },
     "execution_count": 14,
     "metadata": {},
     "output_type": "execute_result"
    }
   ],
   "source": [
    "### Intercepts\n",
    "\n",
    "regressor.intercept"
   ]
  },
  {
   "cell_type": "code",
   "execution_count": 15,
   "id": "1e6e0a2e-ff6f-4c40-82d7-10a6d4d85a51",
   "metadata": {},
   "outputs": [],
   "source": [
    "#### Prediction\n",
    "\n",
    "pred_results = regressor.evaluate(test_data)"
   ]
  },
  {
   "cell_type": "code",
   "execution_count": 16,
   "id": "8c479a97-94fc-4120-824d-d79999f7d865",
   "metadata": {},
   "outputs": [
    {
     "name": "stdout",
     "output_type": "stream",
     "text": [
      "+--------------------+------+-----------------+\n",
      "|Independent Features|Salary|       prediction|\n",
      "+--------------------+------+-----------------+\n",
      "|         [29.0,12.0]| 20000|6907.383770403034|\n",
      "|          [39.0,9.0]| 60000|5439.902916376552|\n",
      "+--------------------+------+-----------------+\n",
      "\n"
     ]
    }
   ],
   "source": [
    "pred_results.predictions.show()"
   ]
  },
  {
   "cell_type": "code",
   "execution_count": 17,
   "id": "a38c8824-5ef9-4d45-972b-aa3c9cdec583",
   "metadata": {},
   "outputs": [
    {
     "data": {
      "text/plain": [
       "(33826.35665661021, 1574110396.754961)"
      ]
     },
     "execution_count": 17,
     "metadata": {},
     "output_type": "execute_result"
    }
   ],
   "source": [
    "pred_results.meanAbsoluteError,pred_results.meanSquaredError"
   ]
  },
  {
   "cell_type": "code",
   "execution_count": null,
   "id": "d85b669b-6860-4ffd-95d7-b4dce8a81db3",
   "metadata": {},
   "outputs": [],
   "source": []
  }
 ],
 "metadata": {
  "kernelspec": {
   "display_name": "Python 3 (ipykernel)",
   "language": "python",
   "name": "python3"
  },
  "language_info": {
   "codemirror_mode": {
    "name": "ipython",
    "version": 3
   },
   "file_extension": ".py",
   "mimetype": "text/x-python",
   "name": "python",
   "nbconvert_exporter": "python",
   "pygments_lexer": "ipython3",
   "version": "3.10.4"
  }
 },
 "nbformat": 4,
 "nbformat_minor": 5
}
