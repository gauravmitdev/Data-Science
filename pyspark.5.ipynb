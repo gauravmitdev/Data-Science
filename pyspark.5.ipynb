{
 "cells": [
  {
   "cell_type": "markdown",
   "id": "b4961653-cf33-4543-bdce-b1866165cb5d",
   "metadata": {},
   "source": [
    "Py Spark\n",
    "- Groupby\n",
    "- Aggreagate funcation"
   ]
  },
  {
   "cell_type": "code",
   "execution_count": 1,
   "id": "faf58cf2-f345-4835-9c52-1df933d2e8a5",
   "metadata": {},
   "outputs": [
    {
     "data": {
      "text/html": [
       "\n",
       "            <div>\n",
       "                <p><b>SparkSession - in-memory</b></p>\n",
       "                \n",
       "        <div>\n",
       "            <p><b>SparkContext</b></p>\n",
       "\n",
       "            <p><a href=\"http://host.docker.internal:4041\">Spark UI</a></p>\n",
       "\n",
       "            <dl>\n",
       "              <dt>Version</dt>\n",
       "                <dd><code>v3.3.0</code></dd>\n",
       "              <dt>Master</dt>\n",
       "                <dd><code>local[*]</code></dd>\n",
       "              <dt>AppName</dt>\n",
       "                <dd><code>pyspark5</code></dd>\n",
       "            </dl>\n",
       "        </div>\n",
       "        \n",
       "            </div>\n",
       "        "
      ],
      "text/plain": [
       "<pyspark.sql.session.SparkSession at 0x1a37f828970>"
      ]
     },
     "execution_count": 1,
     "metadata": {},
     "output_type": "execute_result"
    }
   ],
   "source": [
    "from pyspark.sql import SparkSession\n",
    "spark = SparkSession.builder.appName(\"pyspark5\").getOrCreate()\n",
    "spark"
   ]
  },
  {
   "cell_type": "code",
   "execution_count": 2,
   "id": "ceb832ea-a5e3-4369-81d7-09a4f9308174",
   "metadata": {},
   "outputs": [
    {
     "data": {
      "text/plain": [
       "DataFrame[Name: string, Depatments: string, Salary: int]"
      ]
     },
     "execution_count": 2,
     "metadata": {},
     "output_type": "execute_result"
    }
   ],
   "source": [
    "df = spark.read.csv('test5.csv',header=True,inferSchema=True)\n",
    "df"
   ]
  },
  {
   "cell_type": "code",
   "execution_count": 3,
   "id": "29c9ac52-9ddd-489a-af44-fa355b8ac9dc",
   "metadata": {},
   "outputs": [
    {
     "name": "stdout",
     "output_type": "stream",
     "text": [
      "+------+------------+------+\n",
      "|  Name|  Depatments|Salary|\n",
      "+------+------------+------+\n",
      "| Krish|Data Science|  1000|\n",
      "|Gaurav|         IOT| 15000|\n",
      "|Mahesh|Data Science| 20000|\n",
      "| Krish|    Big Data|  8000|\n",
      "|Gaurav|Data Science| 30000|\n",
      "|Mahesh|         IOT| 19000|\n",
      "|Gaurav|Data Science| 29000|\n",
      "|Mahesh|Data Science| 28000|\n",
      "| Krish|         IOT| 25000|\n",
      "|Gaurav|Data Science|  2000|\n",
      "| Krish|Data Science|  6000|\n",
      "+------+------------+------+\n",
      "\n"
     ]
    }
   ],
   "source": [
    "df.show()"
   ]
  },
  {
   "cell_type": "code",
   "execution_count": 4,
   "id": "140ed2a1-d1ed-401e-9b2c-654b06b09437",
   "metadata": {},
   "outputs": [
    {
     "name": "stdout",
     "output_type": "stream",
     "text": [
      "root\n",
      " |-- Name: string (nullable = true)\n",
      " |-- Depatments: string (nullable = true)\n",
      " |-- Salary: integer (nullable = true)\n",
      "\n"
     ]
    }
   ],
   "source": [
    "df.printSchema()"
   ]
  },
  {
   "cell_type": "code",
   "execution_count": 5,
   "id": "fbf9198c-b86a-4889-a6fe-0707e0bdc822",
   "metadata": {},
   "outputs": [],
   "source": [
    "## GroupBy"
   ]
  },
  {
   "cell_type": "code",
   "execution_count": 7,
   "id": "110a56be-5e0a-4aa2-93fd-34e123527270",
   "metadata": {},
   "outputs": [
    {
     "data": {
      "text/plain": [
       "<pyspark.sql.group.GroupedData at 0x1a37fde49a0>"
      ]
     },
     "execution_count": 7,
     "metadata": {},
     "output_type": "execute_result"
    }
   ],
   "source": [
    "df.groupBy('Name')"
   ]
  },
  {
   "cell_type": "code",
   "execution_count": 8,
   "id": "65d13451-409c-4ff6-abbd-3c3e48ee1c83",
   "metadata": {},
   "outputs": [
    {
     "data": {
      "text/plain": [
       "DataFrame[Name: string, sum(Salary): bigint]"
      ]
     },
     "execution_count": 8,
     "metadata": {},
     "output_type": "execute_result"
    }
   ],
   "source": [
    "df.groupBy('Name').sum()"
   ]
  },
  {
   "cell_type": "code",
   "execution_count": 11,
   "id": "cb9ef6a7-516a-4803-af5e-be4fc6b2dd53",
   "metadata": {},
   "outputs": [
    {
     "name": "stdout",
     "output_type": "stream",
     "text": [
      "+------+-----------+\n",
      "|  Name|sum(Salary)|\n",
      "+------+-----------+\n",
      "|Gaurav|      76000|\n",
      "| Krish|      40000|\n",
      "|Mahesh|      67000|\n",
      "+------+-----------+\n",
      "\n"
     ]
    }
   ],
   "source": [
    "### goupby to find the maximum salary\n",
    "df.groupBy('Name').sum().show()"
   ]
  },
  {
   "cell_type": "code",
   "execution_count": 12,
   "id": "67eb734c-bcde-4bd1-8665-e7e2d5369c12",
   "metadata": {},
   "outputs": [
    {
     "name": "stdout",
     "output_type": "stream",
     "text": [
      "+------+------------------+\n",
      "|  Name|       avg(Salary)|\n",
      "+------+------------------+\n",
      "|Gaurav|           19000.0|\n",
      "| Krish|           10000.0|\n",
      "|Mahesh|22333.333333333332|\n",
      "+------+------------------+\n",
      "\n"
     ]
    }
   ],
   "source": [
    "df.groupBy('Name').mean().show()"
   ]
  },
  {
   "cell_type": "code",
   "execution_count": 13,
   "id": "2ec24921-93d5-4d4b-9b79-4371fe7e0247",
   "metadata": {},
   "outputs": [
    {
     "name": "stdout",
     "output_type": "stream",
     "text": [
      "+------------+-----------+\n",
      "|  Depatments|sum(Salary)|\n",
      "+------------+-----------+\n",
      "|         IOT|      59000|\n",
      "|    Big Data|       8000|\n",
      "|Data Science|     116000|\n",
      "+------------+-----------+\n",
      "\n"
     ]
    }
   ],
   "source": [
    "### goupby Department with gives maximum salary\n",
    "\n",
    "df.groupBy('Depatments').sum().show()"
   ]
  },
  {
   "cell_type": "code",
   "execution_count": 14,
   "id": "623e16a0-2a1e-468e-a0aa-78a51d83f581",
   "metadata": {},
   "outputs": [
    {
     "name": "stdout",
     "output_type": "stream",
     "text": [
      "+------------+------------------+\n",
      "|  Depatments|       avg(Salary)|\n",
      "+------------+------------------+\n",
      "|         IOT|19666.666666666668|\n",
      "|    Big Data|            8000.0|\n",
      "|Data Science|16571.428571428572|\n",
      "+------------+------------------+\n",
      "\n"
     ]
    }
   ],
   "source": [
    "df.groupBy('Depatments').mean().show()"
   ]
  },
  {
   "cell_type": "code",
   "execution_count": 15,
   "id": "098949b8-7cf7-4998-9857-ad0aec6c5bab",
   "metadata": {},
   "outputs": [
    {
     "name": "stdout",
     "output_type": "stream",
     "text": [
      "+------------+-----+\n",
      "|  Depatments|count|\n",
      "+------------+-----+\n",
      "|         IOT|    3|\n",
      "|    Big Data|    1|\n",
      "|Data Science|    7|\n",
      "+------------+-----+\n",
      "\n"
     ]
    }
   ],
   "source": [
    "df.groupBy('Depatments').count().show()"
   ]
  },
  {
   "cell_type": "code",
   "execution_count": 16,
   "id": "59b72617-2256-4f68-96cb-ffa89f6a1c78",
   "metadata": {},
   "outputs": [
    {
     "data": {
      "text/plain": [
       "DataFrame[sum(Salary): bigint]"
      ]
     },
     "execution_count": 16,
     "metadata": {},
     "output_type": "execute_result"
    }
   ],
   "source": [
    "df.agg({'Salary':'sum'})"
   ]
  },
  {
   "cell_type": "code",
   "execution_count": 17,
   "id": "d355a8a8-13ca-44b8-94e0-8b3301786530",
   "metadata": {},
   "outputs": [
    {
     "name": "stdout",
     "output_type": "stream",
     "text": [
      "+-----------+\n",
      "|sum(Salary)|\n",
      "+-----------+\n",
      "|     183000|\n",
      "+-----------+\n",
      "\n"
     ]
    }
   ],
   "source": [
    "df.agg({'Salary':'sum'}).show()"
   ]
  },
  {
   "cell_type": "code",
   "execution_count": 19,
   "id": "988f7037-94f5-4263-84c9-4602091c7b91",
   "metadata": {},
   "outputs": [
    {
     "name": "stdout",
     "output_type": "stream",
     "text": [
      "+------------+-----------+\n",
      "|  Depatments|max(Salary)|\n",
      "+------------+-----------+\n",
      "|         IOT|      25000|\n",
      "|    Big Data|       8000|\n",
      "|Data Science|      30000|\n",
      "+------------+-----------+\n",
      "\n"
     ]
    }
   ],
   "source": [
    "df.groupBy('Depatments').max().show()"
   ]
  },
  {
   "cell_type": "code",
   "execution_count": 21,
   "id": "7721c48b-05ba-4374-9a15-6c2349ca3863",
   "metadata": {},
   "outputs": [
    {
     "name": "stdout",
     "output_type": "stream",
     "text": [
      "+------------+-----------+\n",
      "|  Depatments|min(Salary)|\n",
      "+------------+-----------+\n",
      "|         IOT|      15000|\n",
      "|    Big Data|       8000|\n",
      "|Data Science|       1000|\n",
      "+------------+-----------+\n",
      "\n"
     ]
    }
   ],
   "source": [
    "df.groupBy('Depatments').min().show()"
   ]
  },
  {
   "cell_type": "code",
   "execution_count": 23,
   "id": "4f6b17ca-94b2-48e8-a26f-b42cf4790875",
   "metadata": {},
   "outputs": [
    {
     "name": "stdout",
     "output_type": "stream",
     "text": [
      "+------------+------------------+\n",
      "|  Depatments|       avg(Salary)|\n",
      "+------------+------------------+\n",
      "|         IOT|19666.666666666668|\n",
      "|    Big Data|            8000.0|\n",
      "|Data Science|16571.428571428572|\n",
      "+------------+------------------+\n",
      "\n"
     ]
    }
   ],
   "source": [
    "df.groupBy('Depatments').avg().show()"
   ]
  },
  {
   "cell_type": "code",
   "execution_count": null,
   "id": "760c037a-4dac-4a78-ab12-810d27340f43",
   "metadata": {},
   "outputs": [],
   "source": []
  }
 ],
 "metadata": {
  "kernelspec": {
   "display_name": "Python 3 (ipykernel)",
   "language": "python",
   "name": "python3"
  },
  "language_info": {
   "codemirror_mode": {
    "name": "ipython",
    "version": 3
   },
   "file_extension": ".py",
   "mimetype": "text/x-python",
   "name": "python",
   "nbconvert_exporter": "python",
   "pygments_lexer": "ipython3",
   "version": "3.10.4"
  }
 },
 "nbformat": 4,
 "nbformat_minor": 5
}
