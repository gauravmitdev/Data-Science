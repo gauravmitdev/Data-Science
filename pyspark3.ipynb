{
 "cells": [
  {
   "cell_type": "markdown",
   "id": "25b7c7dc-a112-4812-a082-d58c99ea3514",
   "metadata": {},
   "source": [
    "### Pyspark Tutorials\n",
    "- Droping Columns\n",
    "- Droping Rows"
   ]
  },
  {
   "cell_type": "code",
   "execution_count": 82,
   "id": "6e913f50-bfab-44fc-adb0-189dc6f3d0a7",
   "metadata": {},
   "outputs": [
    {
     "data": {
      "text/html": [
       "\n",
       "            <div>\n",
       "                <p><b>SparkSession - in-memory</b></p>\n",
       "                \n",
       "        <div>\n",
       "            <p><b>SparkContext</b></p>\n",
       "\n",
       "            <p><a href=\"http://DESKTOP-110V3UT.mshome.net:4043\">Spark UI</a></p>\n",
       "\n",
       "            <dl>\n",
       "              <dt>Version</dt>\n",
       "                <dd><code>v3.3.0</code></dd>\n",
       "              <dt>Master</dt>\n",
       "                <dd><code>local[*]</code></dd>\n",
       "              <dt>AppName</dt>\n",
       "                <dd><code>pyspark</code></dd>\n",
       "            </dl>\n",
       "        </div>\n",
       "        \n",
       "            </div>\n",
       "        "
      ],
      "text/plain": [
       "<pyspark.sql.session.SparkSession at 0x2a1cf1d4760>"
      ]
     },
     "execution_count": 82,
     "metadata": {},
     "output_type": "execute_result"
    }
   ],
   "source": [
    "from pyspark.sql import SparkSession\n",
    "spark = SparkSession.builder.appName(\"pyspark3\").getOrCreate()\n",
    "spark"
   ]
  },
  {
   "cell_type": "code",
   "execution_count": 84,
   "id": "795842b5-38b7-4128-9ce8-8f752f722808",
   "metadata": {},
   "outputs": [
    {
     "data": {
      "text/plain": [
       "DataFrame[Name: string, Age: int, Roll_no: int]"
      ]
     },
     "execution_count": 84,
     "metadata": {},
     "output_type": "execute_result"
    }
   ],
   "source": [
    "df = spark.read.csv('test2.csv',header=True,inferSchema=True)\n",
    "df"
   ]
  },
  {
   "cell_type": "code",
   "execution_count": 85,
   "id": "a4b0f8d6-112c-4174-98d5-2fa05c02d505",
   "metadata": {},
   "outputs": [
    {
     "name": "stdout",
     "output_type": "stream",
     "text": [
      "+-------+----+-------+\n",
      "|   Name| Age|Roll_no|\n",
      "+-------+----+-------+\n",
      "| Gaurav|  26|     25|\n",
      "|  Swami|  25|     12|\n",
      "|    Dep|  22|   null|\n",
      "|  Sunny|null|     15|\n",
      "|Bhawesh|  32|     18|\n",
      "|   null|  15|   null|\n",
      "|   null|null|     16|\n",
      "+-------+----+-------+\n",
      "\n"
     ]
    }
   ],
   "source": [
    "df.show()"
   ]
  },
  {
   "cell_type": "code",
   "execution_count": 88,
   "id": "2c444470-0007-46ca-8e0a-eff20d49799a",
   "metadata": {},
   "outputs": [
    {
     "name": "stdout",
     "output_type": "stream",
     "text": [
      "+-------+---+-------+\n",
      "|   Name|Age|Roll_no|\n",
      "+-------+---+-------+\n",
      "| Gaurav| 26|     25|\n",
      "|  Swami| 25|     12|\n",
      "|Bhawesh| 32|     18|\n",
      "+-------+---+-------+\n",
      "\n"
     ]
    }
   ],
   "source": [
    "df.na.drop().show()"
   ]
  },
  {
   "cell_type": "code",
   "execution_count": 89,
   "id": "7263b6c9-7fbc-49ed-a797-49fbf3474d35",
   "metadata": {
    "tags": []
   },
   "outputs": [
    {
     "name": "stdout",
     "output_type": "stream",
     "text": [
      "+-------+----+-------+\n",
      "|   Name| Age|Roll_no|\n",
      "+-------+----+-------+\n",
      "| Gaurav|  26|     25|\n",
      "|  Swami|  25|     12|\n",
      "|    Dep|  22|   null|\n",
      "|  Sunny|null|     15|\n",
      "|Bhawesh|  32|     18|\n",
      "|   null|  15|   null|\n",
      "|   null|null|     16|\n",
      "+-------+----+-------+\n",
      "\n"
     ]
    }
   ],
   "source": [
    "df.na.drop(how='all').show()"
   ]
  },
  {
   "cell_type": "code",
   "execution_count": 90,
   "id": "36fe246f-6d08-4f55-a952-8a68a8290ef4",
   "metadata": {},
   "outputs": [
    {
     "name": "stdout",
     "output_type": "stream",
     "text": [
      "+-------+---+-------+\n",
      "|   Name|Age|Roll_no|\n",
      "+-------+---+-------+\n",
      "| Gaurav| 26|     25|\n",
      "|  Swami| 25|     12|\n",
      "|Bhawesh| 32|     18|\n",
      "+-------+---+-------+\n",
      "\n"
     ]
    }
   ],
   "source": [
    "df.na.drop(how='any').show()"
   ]
  },
  {
   "cell_type": "code",
   "execution_count": 91,
   "id": "90e37c95-430e-4d98-bd61-baccaf6974c4",
   "metadata": {},
   "outputs": [
    {
     "name": "stdout",
     "output_type": "stream",
     "text": [
      "+-------+----+-------+\n",
      "|   Name| Age|Roll_no|\n",
      "+-------+----+-------+\n",
      "| Gaurav|  26|     25|\n",
      "|  Swami|  25|     12|\n",
      "|    Dep|  22|   null|\n",
      "|  Sunny|null|     15|\n",
      "|Bhawesh|  32|     18|\n",
      "+-------+----+-------+\n",
      "\n"
     ]
    }
   ],
   "source": [
    "# threshold\n",
    "df.na.drop(how='any',thresh=2).show()"
   ]
  },
  {
   "cell_type": "code",
   "execution_count": 92,
   "id": "0427223e-7d8c-4c9f-8367-28f438125ca9",
   "metadata": {},
   "outputs": [
    {
     "name": "stdout",
     "output_type": "stream",
     "text": [
      "+-------+---+-------+\n",
      "|   Name|Age|Roll_no|\n",
      "+-------+---+-------+\n",
      "| Gaurav| 26|     25|\n",
      "|  Swami| 25|     12|\n",
      "|    Dep| 22|   null|\n",
      "|Bhawesh| 32|     18|\n",
      "|   null| 15|   null|\n",
      "+-------+---+-------+\n",
      "\n"
     ]
    }
   ],
   "source": [
    "## Subset\n",
    "df.na.drop(how='any',subset=['Age']).show()"
   ]
  },
  {
   "cell_type": "code",
   "execution_count": 93,
   "id": "97b58424-4429-42d4-9195-6f9787218344",
   "metadata": {},
   "outputs": [
    {
     "name": "stdout",
     "output_type": "stream",
     "text": [
      "+-------+---+-------+\n",
      "|   Name|Age|Roll_no|\n",
      "+-------+---+-------+\n",
      "| Gaurav| 26|     25|\n",
      "|  Swami| 25|     12|\n",
      "|Bhawesh| 32|     18|\n",
      "+-------+---+-------+\n",
      "\n"
     ]
    }
   ],
   "source": [
    "df.na.drop(how='any',subset=['Age','Roll_no']).show()"
   ]
  },
  {
   "cell_type": "code",
   "execution_count": 94,
   "id": "b2bdb1c2-9397-40f1-a7b5-5d20b3f2c504",
   "metadata": {},
   "outputs": [],
   "source": [
    "### First we have to remove inferSchema\n",
    "df = spark.read.csv('test2.csv',header=True)"
   ]
  },
  {
   "cell_type": "code",
   "execution_count": 95,
   "id": "dcdaf043-f670-42a5-9478-df8fe8942fa4",
   "metadata": {},
   "outputs": [
    {
     "name": "stdout",
     "output_type": "stream",
     "text": [
      "+--------------+----+-------+\n",
      "|          Name| Age|Roll_no|\n",
      "+--------------+----+-------+\n",
      "|        Gaurav|  26|     25|\n",
      "|         Swami|  25|     12|\n",
      "|           Dep|  22|   null|\n",
      "|         Sunny|null|     15|\n",
      "|       Bhawesh|  32|     18|\n",
      "|Missing Values|  15|   null|\n",
      "|Missing Values|null|     16|\n",
      "+--------------+----+-------+\n",
      "\n"
     ]
    }
   ],
   "source": [
    "### Filling the Missing Value\n",
    "\n",
    "df.na.fill('Missing Values','Name').show()"
   ]
  },
  {
   "cell_type": "code",
   "execution_count": 96,
   "id": "2ec8da4e-d737-4a36-a8d5-8a7760ef4124",
   "metadata": {},
   "outputs": [
    {
     "name": "stdout",
     "output_type": "stream",
     "text": [
      "+--------------+--------------+-------+\n",
      "|          Name|           Age|Roll_no|\n",
      "+--------------+--------------+-------+\n",
      "|        Gaurav|            26|     25|\n",
      "|         Swami|            25|     12|\n",
      "|           Dep|            22|   null|\n",
      "|         Sunny|Missing Values|     15|\n",
      "|       Bhawesh|            32|     18|\n",
      "|Missing Values|            15|   null|\n",
      "|Missing Values|Missing Values|     16|\n",
      "+--------------+--------------+-------+\n",
      "\n"
     ]
    }
   ],
   "source": [
    "df.na.fill('Missing Values',['Name','Age']).show()"
   ]
  },
  {
   "cell_type": "code",
   "execution_count": 97,
   "id": "561a9458-2754-46f8-8922-6c91fe2a5e1b",
   "metadata": {},
   "outputs": [
    {
     "name": "stdout",
     "output_type": "stream",
     "text": [
      "+--------------+--------------+--------------+\n",
      "|          Name|           Age|       Roll_no|\n",
      "+--------------+--------------+--------------+\n",
      "|        Gaurav|            26|            25|\n",
      "|         Swami|            25|            12|\n",
      "|           Dep|            22|Missing Values|\n",
      "|         Sunny|Missing Values|            15|\n",
      "|       Bhawesh|            32|            18|\n",
      "|Missing Values|            15|Missing Values|\n",
      "|Missing Values|Missing Values|            16|\n",
      "+--------------+--------------+--------------+\n",
      "\n"
     ]
    }
   ],
   "source": [
    "df.na.fill('Missing Values',['Name','Age','Roll_no']).show()"
   ]
  },
  {
   "cell_type": "code",
   "execution_count": 98,
   "id": "38e829df-924f-4d2e-b511-5aa493cc6c51",
   "metadata": {},
   "outputs": [
    {
     "name": "stdout",
     "output_type": "stream",
     "text": [
      "+-------+----+-------+\n",
      "|   Name| Age|Roll_no|\n",
      "+-------+----+-------+\n",
      "| Gaurav|  26|     25|\n",
      "|  Swami|  25|     12|\n",
      "|    Dep|  22|   null|\n",
      "|  Sunny|null|     15|\n",
      "|Bhawesh|  32|     18|\n",
      "|   null|  15|   null|\n",
      "|   null|null|     16|\n",
      "+-------+----+-------+\n",
      "\n"
     ]
    }
   ],
   "source": [
    "df.show()"
   ]
  },
  {
   "cell_type": "code",
   "execution_count": 99,
   "id": "cd55d996-ce44-4436-afa4-20f6e9959681",
   "metadata": {},
   "outputs": [],
   "source": [
    "### Before we have to add inferSchema\n",
    "df = spark.read.csv('test2.csv',header=True,inferSchema=True)\n",
    "\n",
    "\n",
    "### Imputer System\n",
    "\n",
    "from pyspark.ml.feature import Imputer\n",
    "\n",
    "imputer = Imputer(\n",
    "    inputCols=['Age','Roll_no'],\n",
    "    outputCols=['{}_imputed'.format(c) for c in ['Age','Roll_no']]\n",
    "    ).setStrategy('mean')"
   ]
  },
  {
   "cell_type": "code",
   "execution_count": 100,
   "id": "f308e66f-3889-443a-874d-7c7706c80de5",
   "metadata": {},
   "outputs": [
    {
     "name": "stdout",
     "output_type": "stream",
     "text": [
      "+-------+----+-------+-----------+---------------+\n",
      "|   Name| Age|Roll_no|Age_imputed|Roll_no_imputed|\n",
      "+-------+----+-------+-----------+---------------+\n",
      "| Gaurav|  26|     25|         26|             25|\n",
      "|  Swami|  25|     12|         25|             12|\n",
      "|    Dep|  22|   null|         22|             17|\n",
      "|  Sunny|null|     15|         24|             15|\n",
      "|Bhawesh|  32|     18|         32|             18|\n",
      "|   null|  15|   null|         15|             17|\n",
      "|   null|null|     16|         24|             16|\n",
      "+-------+----+-------+-----------+---------------+\n",
      "\n"
     ]
    }
   ],
   "source": [
    "# Add imputation cols to df \n",
    "\n",
    "imputer.fit(df).transform(df).show()"
   ]
  },
  {
   "cell_type": "code",
   "execution_count": 101,
   "id": "89219342-6557-4c57-9e0b-eacd5fb076b5",
   "metadata": {},
   "outputs": [
    {
     "name": "stdout",
     "output_type": "stream",
     "text": [
      "+-------+----+-------+-----------+---------------+\n",
      "|   Name| Age|Roll_no|Age_imputed|Roll_no_imputed|\n",
      "+-------+----+-------+-----------+---------------+\n",
      "| Gaurav|  26|     25|         26|             25|\n",
      "|  Swami|  25|     12|         25|             12|\n",
      "|    Dep|  22|   null|         22|             16|\n",
      "|  Sunny|null|     15|         25|             15|\n",
      "|Bhawesh|  32|     18|         32|             18|\n",
      "|   null|  15|   null|         15|             16|\n",
      "|   null|null|     16|         25|             16|\n",
      "+-------+----+-------+-----------+---------------+\n",
      "\n"
     ]
    }
   ],
   "source": [
    "### for median value\n",
    "\n",
    "\n",
    "imputer = Imputer(\n",
    "    inputCols=['Age','Roll_no'],\n",
    "    outputCols=['{}_imputed'.format(c) for c in ['Age','Roll_no']]\n",
    "    ).setStrategy('median')\n",
    "imputer.fit(df).transform(df).show()"
   ]
  },
  {
   "cell_type": "code",
   "execution_count": null,
   "id": "d7ef893d-95de-4931-8197-9a6e868bd200",
   "metadata": {},
   "outputs": [],
   "source": []
  }
 ],
 "metadata": {
  "kernelspec": {
   "display_name": "Python 3 (ipykernel)",
   "language": "python",
   "name": "python3"
  },
  "language_info": {
   "codemirror_mode": {
    "name": "ipython",
    "version": 3
   },
   "file_extension": ".py",
   "mimetype": "text/x-python",
   "name": "python",
   "nbconvert_exporter": "python",
   "pygments_lexer": "ipython3",
   "version": "3.10.4"
  },
  "vscode": {
   "interpreter": {
    "hash": "83ba7b0f9d7d443d91d884e96beb70d2a5a2a5e81bbda7ff30d9851e68af758a"
   }
  }
 },
 "nbformat": 4,
 "nbformat_minor": 5
}
