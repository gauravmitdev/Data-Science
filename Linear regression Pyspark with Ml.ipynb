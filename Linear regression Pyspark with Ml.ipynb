{
 "cells": [
  {
   "cell_type": "markdown",
   "metadata": {
    "application/vnd.databricks.v1+cell": {
     "inputWidgets": {},
     "nuid": "96816ed7-b08a-4ca3-abb9-f99880c3535d",
     "showTitle": false,
     "title": ""
    }
   },
   "source": [
    "## Overview\n",
    "\n",
    "This notebook will show you how to create and query a table or DataFrame that you uploaded to DBFS. [DBFS](https://docs.databricks.com/user-guide/dbfs-databricks-file-system.html) is a Databricks File System that allows you to store data for querying inside of Databricks. This notebook assumes that you have a file already inside of DBFS that you would like to read from.\n",
    "\n",
    "This notebook is written in **Python** so the default cell type is Python. However, you can use different languages by using the `%LANGUAGE` syntax. Python, Scala, SQL, and R are all supported."
   ]
  },
  {
   "cell_type": "code",
   "execution_count": null,
   "metadata": {
    "application/vnd.databricks.v1+cell": {
     "inputWidgets": {},
     "nuid": "6482be4c-f067-47c9-b0ac-35c938b94601",
     "showTitle": false,
     "title": ""
    }
   },
   "outputs": [],
   "source": [
    "# File location and type\n",
    "file_location = \"/FileStore/tables/tips.csv\"\n",
    "file_type = \"csv\""
   ]
  },
  {
   "cell_type": "code",
   "execution_count": null,
   "metadata": {
    "application/vnd.databricks.v1+cell": {
     "inputWidgets": {},
     "nuid": "4fb9b45f-4aec-4939-bfe5-bee04b8b833f",
     "showTitle": false,
     "title": ""
    }
   },
   "outputs": [
    {
     "data": {
      "text/plain": [
       "+----------+----+------+------+---+------+----+\n",
       "|total_bill| tip|   sex|smoker|day|  time|size|\n",
       "+----------+----+------+------+---+------+----+\n",
       "|     16.99|1.01|Female|    No|Sun|Dinner|   2|\n",
       "|     10.34|1.66|  Male|    No|Sun|Dinner|   3|\n",
       "|     21.01| 3.5|  Male|    No|Sun|Dinner|   3|\n",
       "|     23.68|3.31|  Male|    No|Sun|Dinner|   2|\n",
       "|     24.59|3.61|Female|    No|Sun|Dinner|   4|\n",
       "|     25.29|4.71|  Male|    No|Sun|Dinner|   4|\n",
       "|      8.77| 2.0|  Male|    No|Sun|Dinner|   2|\n",
       "|     26.88|3.12|  Male|    No|Sun|Dinner|   4|\n",
       "|     15.04|1.96|  Male|    No|Sun|Dinner|   2|\n",
       "|     14.78|3.23|  Male|    No|Sun|Dinner|   2|\n",
       "|     10.27|1.71|  Male|    No|Sun|Dinner|   2|\n",
       "|     35.26| 5.0|Female|    No|Sun|Dinner|   4|\n",
       "|     15.42|1.57|  Male|    No|Sun|Dinner|   2|\n",
       "|     18.43| 3.0|  Male|    No|Sun|Dinner|   4|\n",
       "|     14.83|3.02|Female|    No|Sun|Dinner|   2|\n",
       "|     21.58|3.92|  Male|    No|Sun|Dinner|   2|\n",
       "|     10.33|1.67|Female|    No|Sun|Dinner|   3|\n",
       "|     16.29|3.71|  Male|    No|Sun|Dinner|   3|\n",
       "|     16.97| 3.5|Female|    No|Sun|Dinner|   3|\n",
       "|     20.65|3.35|  Male|    No|Sat|Dinner|   3|\n",
       "+----------+----+------+------+---+------+----+\n",
       "only showing top 20 rows\n",
       "\n"
      ]
     },
     "metadata": {
      "application/vnd.databricks.v1+output": {
       "addedWidgets": {},
       "arguments": {},
       "data": "+----------+----+------+------+---+------+----+\n|total_bill| tip|   sex|smoker|day|  time|size|\n+----------+----+------+------+---+------+----+\n|     16.99|1.01|Female|    No|Sun|Dinner|   2|\n|     10.34|1.66|  Male|    No|Sun|Dinner|   3|\n|     21.01| 3.5|  Male|    No|Sun|Dinner|   3|\n|     23.68|3.31|  Male|    No|Sun|Dinner|   2|\n|     24.59|3.61|Female|    No|Sun|Dinner|   4|\n|     25.29|4.71|  Male|    No|Sun|Dinner|   4|\n|      8.77| 2.0|  Male|    No|Sun|Dinner|   2|\n|     26.88|3.12|  Male|    No|Sun|Dinner|   4|\n|     15.04|1.96|  Male|    No|Sun|Dinner|   2|\n|     14.78|3.23|  Male|    No|Sun|Dinner|   2|\n|     10.27|1.71|  Male|    No|Sun|Dinner|   2|\n|     35.26| 5.0|Female|    No|Sun|Dinner|   4|\n|     15.42|1.57|  Male|    No|Sun|Dinner|   2|\n|     18.43| 3.0|  Male|    No|Sun|Dinner|   4|\n|     14.83|3.02|Female|    No|Sun|Dinner|   2|\n|     21.58|3.92|  Male|    No|Sun|Dinner|   2|\n|     10.33|1.67|Female|    No|Sun|Dinner|   3|\n|     16.29|3.71|  Male|    No|Sun|Dinner|   3|\n|     16.97| 3.5|Female|    No|Sun|Dinner|   3|\n|     20.65|3.35|  Male|    No|Sat|Dinner|   3|\n+----------+----+------+------+---+------+----+\nonly showing top 20 rows\n\n",
       "datasetInfos": [],
       "metadata": {},
       "removedWidgets": [],
       "type": "ansi"
      }
     },
     "output_type": "display_data"
    }
   ],
   "source": [
    "df = spark.read.csv(file_location,header=True,inferSchema=True)\n",
    "df.show()"
   ]
  },
  {
   "cell_type": "code",
   "execution_count": null,
   "metadata": {
    "application/vnd.databricks.v1+cell": {
     "inputWidgets": {},
     "nuid": "02b4082a-292a-4116-a7e9-c87e202fcadb",
     "showTitle": false,
     "title": ""
    }
   },
   "outputs": [
    {
     "data": {
      "text/plain": [
       "root\n",
       " |-- total_bill: double (nullable = true)\n",
       " |-- tip: double (nullable = true)\n",
       " |-- sex: string (nullable = true)\n",
       " |-- smoker: string (nullable = true)\n",
       " |-- day: string (nullable = true)\n",
       " |-- time: string (nullable = true)\n",
       " |-- size: integer (nullable = true)\n",
       "\n"
      ]
     },
     "metadata": {
      "application/vnd.databricks.v1+output": {
       "addedWidgets": {},
       "arguments": {},
       "data": "root\n |-- total_bill: double (nullable = true)\n |-- tip: double (nullable = true)\n |-- sex: string (nullable = true)\n |-- smoker: string (nullable = true)\n |-- day: string (nullable = true)\n |-- time: string (nullable = true)\n |-- size: integer (nullable = true)\n\n",
       "datasetInfos": [],
       "metadata": {},
       "removedWidgets": [],
       "type": "ansi"
      }
     },
     "output_type": "display_data"
    }
   ],
   "source": [
    "df.printSchema()"
   ]
  },
  {
   "cell_type": "code",
   "execution_count": null,
   "metadata": {
    "application/vnd.databricks.v1+cell": {
     "inputWidgets": {},
     "nuid": "e71bdf98-2b83-4b53-be25-0ec03f438fc9",
     "showTitle": false,
     "title": ""
    }
   },
   "outputs": [],
   "source": [
    "### Handling Categorical Features\n",
    "from pyspark.ml.feature import StringIndexer"
   ]
  },
  {
   "cell_type": "code",
   "execution_count": null,
   "metadata": {
    "application/vnd.databricks.v1+cell": {
     "inputWidgets": {},
     "nuid": "40232301-aef0-497b-8e8d-1bbc57391a2d",
     "showTitle": false,
     "title": ""
    }
   },
   "outputs": [
    {
     "data": {
      "text/plain": [
       "+----------+----+------+------+---+------+----+\n",
       "|total_bill| tip|   sex|smoker|day|  time|size|\n",
       "+----------+----+------+------+---+------+----+\n",
       "|     16.99|1.01|Female|    No|Sun|Dinner|   2|\n",
       "|     10.34|1.66|  Male|    No|Sun|Dinner|   3|\n",
       "|     21.01| 3.5|  Male|    No|Sun|Dinner|   3|\n",
       "|     23.68|3.31|  Male|    No|Sun|Dinner|   2|\n",
       "|     24.59|3.61|Female|    No|Sun|Dinner|   4|\n",
       "|     25.29|4.71|  Male|    No|Sun|Dinner|   4|\n",
       "|      8.77| 2.0|  Male|    No|Sun|Dinner|   2|\n",
       "|     26.88|3.12|  Male|    No|Sun|Dinner|   4|\n",
       "|     15.04|1.96|  Male|    No|Sun|Dinner|   2|\n",
       "|     14.78|3.23|  Male|    No|Sun|Dinner|   2|\n",
       "|     10.27|1.71|  Male|    No|Sun|Dinner|   2|\n",
       "|     35.26| 5.0|Female|    No|Sun|Dinner|   4|\n",
       "|     15.42|1.57|  Male|    No|Sun|Dinner|   2|\n",
       "|     18.43| 3.0|  Male|    No|Sun|Dinner|   4|\n",
       "|     14.83|3.02|Female|    No|Sun|Dinner|   2|\n",
       "|     21.58|3.92|  Male|    No|Sun|Dinner|   2|\n",
       "|     10.33|1.67|Female|    No|Sun|Dinner|   3|\n",
       "|     16.29|3.71|  Male|    No|Sun|Dinner|   3|\n",
       "|     16.97| 3.5|Female|    No|Sun|Dinner|   3|\n",
       "|     20.65|3.35|  Male|    No|Sat|Dinner|   3|\n",
       "+----------+----+------+------+---+------+----+\n",
       "only showing top 20 rows\n",
       "\n"
      ]
     },
     "metadata": {
      "application/vnd.databricks.v1+output": {
       "addedWidgets": {},
       "arguments": {},
       "data": "+----------+----+------+------+---+------+----+\n|total_bill| tip|   sex|smoker|day|  time|size|\n+----------+----+------+------+---+------+----+\n|     16.99|1.01|Female|    No|Sun|Dinner|   2|\n|     10.34|1.66|  Male|    No|Sun|Dinner|   3|\n|     21.01| 3.5|  Male|    No|Sun|Dinner|   3|\n|     23.68|3.31|  Male|    No|Sun|Dinner|   2|\n|     24.59|3.61|Female|    No|Sun|Dinner|   4|\n|     25.29|4.71|  Male|    No|Sun|Dinner|   4|\n|      8.77| 2.0|  Male|    No|Sun|Dinner|   2|\n|     26.88|3.12|  Male|    No|Sun|Dinner|   4|\n|     15.04|1.96|  Male|    No|Sun|Dinner|   2|\n|     14.78|3.23|  Male|    No|Sun|Dinner|   2|\n|     10.27|1.71|  Male|    No|Sun|Dinner|   2|\n|     35.26| 5.0|Female|    No|Sun|Dinner|   4|\n|     15.42|1.57|  Male|    No|Sun|Dinner|   2|\n|     18.43| 3.0|  Male|    No|Sun|Dinner|   4|\n|     14.83|3.02|Female|    No|Sun|Dinner|   2|\n|     21.58|3.92|  Male|    No|Sun|Dinner|   2|\n|     10.33|1.67|Female|    No|Sun|Dinner|   3|\n|     16.29|3.71|  Male|    No|Sun|Dinner|   3|\n|     16.97| 3.5|Female|    No|Sun|Dinner|   3|\n|     20.65|3.35|  Male|    No|Sat|Dinner|   3|\n+----------+----+------+------+---+------+----+\nonly showing top 20 rows\n\n",
       "datasetInfos": [],
       "metadata": {},
       "removedWidgets": [],
       "type": "ansi"
      }
     },
     "output_type": "display_data"
    }
   ],
   "source": [
    "df.show()"
   ]
  },
  {
   "cell_type": "code",
   "execution_count": null,
   "metadata": {
    "application/vnd.databricks.v1+cell": {
     "inputWidgets": {},
     "nuid": "3930c4aa-2652-47c4-9e2e-ab30ce54623a",
     "showTitle": false,
     "title": ""
    }
   },
   "outputs": [
    {
     "data": {
      "text/plain": [
       "+----------+----+------+------+---+------+----+-----------+\n",
       "|total_bill| tip|   sex|smoker|day|  time|size|sex_indexed|\n",
       "+----------+----+------+------+---+------+----+-----------+\n",
       "|     16.99|1.01|Female|    No|Sun|Dinner|   2|        1.0|\n",
       "|     10.34|1.66|  Male|    No|Sun|Dinner|   3|        0.0|\n",
       "|     21.01| 3.5|  Male|    No|Sun|Dinner|   3|        0.0|\n",
       "|     23.68|3.31|  Male|    No|Sun|Dinner|   2|        0.0|\n",
       "|     24.59|3.61|Female|    No|Sun|Dinner|   4|        1.0|\n",
       "|     25.29|4.71|  Male|    No|Sun|Dinner|   4|        0.0|\n",
       "|      8.77| 2.0|  Male|    No|Sun|Dinner|   2|        0.0|\n",
       "|     26.88|3.12|  Male|    No|Sun|Dinner|   4|        0.0|\n",
       "|     15.04|1.96|  Male|    No|Sun|Dinner|   2|        0.0|\n",
       "|     14.78|3.23|  Male|    No|Sun|Dinner|   2|        0.0|\n",
       "|     10.27|1.71|  Male|    No|Sun|Dinner|   2|        0.0|\n",
       "|     35.26| 5.0|Female|    No|Sun|Dinner|   4|        1.0|\n",
       "|     15.42|1.57|  Male|    No|Sun|Dinner|   2|        0.0|\n",
       "|     18.43| 3.0|  Male|    No|Sun|Dinner|   4|        0.0|\n",
       "|     14.83|3.02|Female|    No|Sun|Dinner|   2|        1.0|\n",
       "|     21.58|3.92|  Male|    No|Sun|Dinner|   2|        0.0|\n",
       "|     10.33|1.67|Female|    No|Sun|Dinner|   3|        1.0|\n",
       "|     16.29|3.71|  Male|    No|Sun|Dinner|   3|        0.0|\n",
       "|     16.97| 3.5|Female|    No|Sun|Dinner|   3|        1.0|\n",
       "|     20.65|3.35|  Male|    No|Sat|Dinner|   3|        0.0|\n",
       "+----------+----+------+------+---+------+----+-----------+\n",
       "only showing top 20 rows\n",
       "\n"
      ]
     },
     "metadata": {
      "application/vnd.databricks.v1+output": {
       "addedWidgets": {},
       "arguments": {},
       "data": "+----------+----+------+------+---+------+----+-----------+\n|total_bill| tip|   sex|smoker|day|  time|size|sex_indexed|\n+----------+----+------+------+---+------+----+-----------+\n|     16.99|1.01|Female|    No|Sun|Dinner|   2|        1.0|\n|     10.34|1.66|  Male|    No|Sun|Dinner|   3|        0.0|\n|     21.01| 3.5|  Male|    No|Sun|Dinner|   3|        0.0|\n|     23.68|3.31|  Male|    No|Sun|Dinner|   2|        0.0|\n|     24.59|3.61|Female|    No|Sun|Dinner|   4|        1.0|\n|     25.29|4.71|  Male|    No|Sun|Dinner|   4|        0.0|\n|      8.77| 2.0|  Male|    No|Sun|Dinner|   2|        0.0|\n|     26.88|3.12|  Male|    No|Sun|Dinner|   4|        0.0|\n|     15.04|1.96|  Male|    No|Sun|Dinner|   2|        0.0|\n|     14.78|3.23|  Male|    No|Sun|Dinner|   2|        0.0|\n|     10.27|1.71|  Male|    No|Sun|Dinner|   2|        0.0|\n|     35.26| 5.0|Female|    No|Sun|Dinner|   4|        1.0|\n|     15.42|1.57|  Male|    No|Sun|Dinner|   2|        0.0|\n|     18.43| 3.0|  Male|    No|Sun|Dinner|   4|        0.0|\n|     14.83|3.02|Female|    No|Sun|Dinner|   2|        1.0|\n|     21.58|3.92|  Male|    No|Sun|Dinner|   2|        0.0|\n|     10.33|1.67|Female|    No|Sun|Dinner|   3|        1.0|\n|     16.29|3.71|  Male|    No|Sun|Dinner|   3|        0.0|\n|     16.97| 3.5|Female|    No|Sun|Dinner|   3|        1.0|\n|     20.65|3.35|  Male|    No|Sat|Dinner|   3|        0.0|\n+----------+----+------+------+---+------+----+-----------+\nonly showing top 20 rows\n\n",
       "datasetInfos": [],
       "metadata": {},
       "removedWidgets": [],
       "type": "ansi"
      }
     },
     "output_type": "display_data"
    }
   ],
   "source": [
    "indexer=StringIndexer(inputCol=\"sex\",outputCol=\"sex_indexed\")\n",
    "df_r=indexer.fit(df).transform(df)\n",
    "df_r.show()"
   ]
  },
  {
   "cell_type": "code",
   "execution_count": null,
   "metadata": {
    "application/vnd.databricks.v1+cell": {
     "inputWidgets": {},
     "nuid": "8556e94c-176c-4645-a9b3-fdee4d747ca5",
     "showTitle": false,
     "title": ""
    }
   },
   "outputs": [
    {
     "data": {
      "text/plain": [
       "+----------+----+------+------+---+------+----+-----------+--------------+-----------+----------+\n",
       "|total_bill| tip|   sex|smoker|day|  time|size|sex_indexed|smoker_indexed|day_indexed|time_index|\n",
       "+----------+----+------+------+---+------+----+-----------+--------------+-----------+----------+\n",
       "|     16.99|1.01|Female|    No|Sun|Dinner|   2|        1.0|           0.0|        1.0|       0.0|\n",
       "|     10.34|1.66|  Male|    No|Sun|Dinner|   3|        0.0|           0.0|        1.0|       0.0|\n",
       "|     21.01| 3.5|  Male|    No|Sun|Dinner|   3|        0.0|           0.0|        1.0|       0.0|\n",
       "|     23.68|3.31|  Male|    No|Sun|Dinner|   2|        0.0|           0.0|        1.0|       0.0|\n",
       "|     24.59|3.61|Female|    No|Sun|Dinner|   4|        1.0|           0.0|        1.0|       0.0|\n",
       "|     25.29|4.71|  Male|    No|Sun|Dinner|   4|        0.0|           0.0|        1.0|       0.0|\n",
       "|      8.77| 2.0|  Male|    No|Sun|Dinner|   2|        0.0|           0.0|        1.0|       0.0|\n",
       "|     26.88|3.12|  Male|    No|Sun|Dinner|   4|        0.0|           0.0|        1.0|       0.0|\n",
       "|     15.04|1.96|  Male|    No|Sun|Dinner|   2|        0.0|           0.0|        1.0|       0.0|\n",
       "|     14.78|3.23|  Male|    No|Sun|Dinner|   2|        0.0|           0.0|        1.0|       0.0|\n",
       "|     10.27|1.71|  Male|    No|Sun|Dinner|   2|        0.0|           0.0|        1.0|       0.0|\n",
       "|     35.26| 5.0|Female|    No|Sun|Dinner|   4|        1.0|           0.0|        1.0|       0.0|\n",
       "|     15.42|1.57|  Male|    No|Sun|Dinner|   2|        0.0|           0.0|        1.0|       0.0|\n",
       "|     18.43| 3.0|  Male|    No|Sun|Dinner|   4|        0.0|           0.0|        1.0|       0.0|\n",
       "|     14.83|3.02|Female|    No|Sun|Dinner|   2|        1.0|           0.0|        1.0|       0.0|\n",
       "|     21.58|3.92|  Male|    No|Sun|Dinner|   2|        0.0|           0.0|        1.0|       0.0|\n",
       "|     10.33|1.67|Female|    No|Sun|Dinner|   3|        1.0|           0.0|        1.0|       0.0|\n",
       "|     16.29|3.71|  Male|    No|Sun|Dinner|   3|        0.0|           0.0|        1.0|       0.0|\n",
       "|     16.97| 3.5|Female|    No|Sun|Dinner|   3|        1.0|           0.0|        1.0|       0.0|\n",
       "|     20.65|3.35|  Male|    No|Sat|Dinner|   3|        0.0|           0.0|        0.0|       0.0|\n",
       "+----------+----+------+------+---+------+----+-----------+--------------+-----------+----------+\n",
       "only showing top 20 rows\n",
       "\n"
      ]
     },
     "metadata": {
      "application/vnd.databricks.v1+output": {
       "addedWidgets": {},
       "arguments": {},
       "data": "+----------+----+------+------+---+------+----+-----------+--------------+-----------+----------+\n|total_bill| tip|   sex|smoker|day|  time|size|sex_indexed|smoker_indexed|day_indexed|time_index|\n+----------+----+------+------+---+------+----+-----------+--------------+-----------+----------+\n|     16.99|1.01|Female|    No|Sun|Dinner|   2|        1.0|           0.0|        1.0|       0.0|\n|     10.34|1.66|  Male|    No|Sun|Dinner|   3|        0.0|           0.0|        1.0|       0.0|\n|     21.01| 3.5|  Male|    No|Sun|Dinner|   3|        0.0|           0.0|        1.0|       0.0|\n|     23.68|3.31|  Male|    No|Sun|Dinner|   2|        0.0|           0.0|        1.0|       0.0|\n|     24.59|3.61|Female|    No|Sun|Dinner|   4|        1.0|           0.0|        1.0|       0.0|\n|     25.29|4.71|  Male|    No|Sun|Dinner|   4|        0.0|           0.0|        1.0|       0.0|\n|      8.77| 2.0|  Male|    No|Sun|Dinner|   2|        0.0|           0.0|        1.0|       0.0|\n|     26.88|3.12|  Male|    No|Sun|Dinner|   4|        0.0|           0.0|        1.0|       0.0|\n|     15.04|1.96|  Male|    No|Sun|Dinner|   2|        0.0|           0.0|        1.0|       0.0|\n|     14.78|3.23|  Male|    No|Sun|Dinner|   2|        0.0|           0.0|        1.0|       0.0|\n|     10.27|1.71|  Male|    No|Sun|Dinner|   2|        0.0|           0.0|        1.0|       0.0|\n|     35.26| 5.0|Female|    No|Sun|Dinner|   4|        1.0|           0.0|        1.0|       0.0|\n|     15.42|1.57|  Male|    No|Sun|Dinner|   2|        0.0|           0.0|        1.0|       0.0|\n|     18.43| 3.0|  Male|    No|Sun|Dinner|   4|        0.0|           0.0|        1.0|       0.0|\n|     14.83|3.02|Female|    No|Sun|Dinner|   2|        1.0|           0.0|        1.0|       0.0|\n|     21.58|3.92|  Male|    No|Sun|Dinner|   2|        0.0|           0.0|        1.0|       0.0|\n|     10.33|1.67|Female|    No|Sun|Dinner|   3|        1.0|           0.0|        1.0|       0.0|\n|     16.29|3.71|  Male|    No|Sun|Dinner|   3|        0.0|           0.0|        1.0|       0.0|\n|     16.97| 3.5|Female|    No|Sun|Dinner|   3|        1.0|           0.0|        1.0|       0.0|\n|     20.65|3.35|  Male|    No|Sat|Dinner|   3|        0.0|           0.0|        0.0|       0.0|\n+----------+----+------+------+---+------+----+-----------+--------------+-----------+----------+\nonly showing top 20 rows\n\n",
       "datasetInfos": [],
       "metadata": {},
       "removedWidgets": [],
       "type": "ansi"
      }
     },
     "output_type": "display_data"
    }
   ],
   "source": [
    "indexer=StringIndexer(inputCols=[\"smoker\",\"day\",\"time\"],outputCols=[\"smoker_indexed\",\"day_indexed\",\n",
    "                                                                  \"time_index\"])\n",
    "df_r=indexer.fit(df_r).transform(df_r)\n",
    "df_r.show()"
   ]
  },
  {
   "cell_type": "code",
   "execution_count": null,
   "metadata": {
    "application/vnd.databricks.v1+cell": {
     "inputWidgets": {},
     "nuid": "0ef6d149-72dc-444d-a2b4-fd4940b86e20",
     "showTitle": false,
     "title": ""
    }
   },
   "outputs": [
    {
     "data": {
      "text/plain": [
       "Out[8]: ['total_bill',\n",
       " 'tip',\n",
       " 'sex',\n",
       " 'smoker',\n",
       " 'day',\n",
       " 'time',\n",
       " 'size',\n",
       " 'sex_indexed',\n",
       " 'smoker_indexed',\n",
       " 'day_indexed',\n",
       " 'time_index']"
      ]
     },
     "metadata": {
      "application/vnd.databricks.v1+output": {
       "addedWidgets": {},
       "arguments": {},
       "data": "Out[8]: ['total_bill',\n 'tip',\n 'sex',\n 'smoker',\n 'day',\n 'time',\n 'size',\n 'sex_indexed',\n 'smoker_indexed',\n 'day_indexed',\n 'time_index']",
       "datasetInfos": [],
       "metadata": {},
       "removedWidgets": [],
       "type": "ansi"
      }
     },
     "output_type": "display_data"
    }
   ],
   "source": [
    "df_r.columns"
   ]
  },
  {
   "cell_type": "code",
   "execution_count": null,
   "metadata": {
    "application/vnd.databricks.v1+cell": {
     "inputWidgets": {},
     "nuid": "727f0d47-ed85-4a81-8f98-69c56bba4f50",
     "showTitle": false,
     "title": ""
    }
   },
   "outputs": [],
   "source": [
    "from pyspark.ml.feature import VectorAssembler\n",
    "featureassembler=VectorAssembler(inputCols=['tip','size','sex_indexed','smoker_indexed','day_indexed',\n",
    "                          'time_index'],outputCol=\"Independent Features\")\n",
    "output=featureassembler.transform(df_r)"
   ]
  },
  {
   "cell_type": "code",
   "execution_count": null,
   "metadata": {
    "application/vnd.databricks.v1+cell": {
     "inputWidgets": {},
     "nuid": "ce1ba0e7-2b7d-47b3-b4ac-d9dc3a0e7f58",
     "showTitle": false,
     "title": ""
    }
   },
   "outputs": [
    {
     "data": {
      "text/plain": [
       "+--------------------+\n",
       "|Independent Features|\n",
       "+--------------------+\n",
       "|[1.01,2.0,1.0,0.0...|\n",
       "|[1.66,3.0,0.0,0.0...|\n",
       "|[3.5,3.0,0.0,0.0,...|\n",
       "|[3.31,2.0,0.0,0.0...|\n",
       "|[3.61,4.0,1.0,0.0...|\n",
       "|[4.71,4.0,0.0,0.0...|\n",
       "|[2.0,2.0,0.0,0.0,...|\n",
       "|[3.12,4.0,0.0,0.0...|\n",
       "|[1.96,2.0,0.0,0.0...|\n",
       "|[3.23,2.0,0.0,0.0...|\n",
       "|[1.71,2.0,0.0,0.0...|\n",
       "|[5.0,4.0,1.0,0.0,...|\n",
       "|[1.57,2.0,0.0,0.0...|\n",
       "|[3.0,4.0,0.0,0.0,...|\n",
       "|[3.02,2.0,1.0,0.0...|\n",
       "|[3.92,2.0,0.0,0.0...|\n",
       "|[1.67,3.0,1.0,0.0...|\n",
       "|[3.71,3.0,0.0,0.0...|\n",
       "|[3.5,3.0,1.0,0.0,...|\n",
       "|(6,[0,1],[3.35,3.0])|\n",
       "+--------------------+\n",
       "only showing top 20 rows\n",
       "\n"
      ]
     },
     "metadata": {
      "application/vnd.databricks.v1+output": {
       "addedWidgets": {},
       "arguments": {},
       "data": "+--------------------+\n|Independent Features|\n+--------------------+\n|[1.01,2.0,1.0,0.0...|\n|[1.66,3.0,0.0,0.0...|\n|[3.5,3.0,0.0,0.0,...|\n|[3.31,2.0,0.0,0.0...|\n|[3.61,4.0,1.0,0.0...|\n|[4.71,4.0,0.0,0.0...|\n|[2.0,2.0,0.0,0.0,...|\n|[3.12,4.0,0.0,0.0...|\n|[1.96,2.0,0.0,0.0...|\n|[3.23,2.0,0.0,0.0...|\n|[1.71,2.0,0.0,0.0...|\n|[5.0,4.0,1.0,0.0,...|\n|[1.57,2.0,0.0,0.0...|\n|[3.0,4.0,0.0,0.0,...|\n|[3.02,2.0,1.0,0.0...|\n|[3.92,2.0,0.0,0.0...|\n|[1.67,3.0,1.0,0.0...|\n|[3.71,3.0,0.0,0.0...|\n|[3.5,3.0,1.0,0.0,...|\n|(6,[0,1],[3.35,3.0])|\n+--------------------+\nonly showing top 20 rows\n\n",
       "datasetInfos": [],
       "metadata": {},
       "removedWidgets": [],
       "type": "ansi"
      }
     },
     "output_type": "display_data"
    }
   ],
   "source": [
    "output.select('Independent Features').show()"
   ]
  },
  {
   "cell_type": "code",
   "execution_count": null,
   "metadata": {
    "application/vnd.databricks.v1+cell": {
     "inputWidgets": {},
     "nuid": "e996f120-5600-4ad7-bedd-bc533ebe8fcf",
     "showTitle": false,
     "title": ""
    }
   },
   "outputs": [
    {
     "data": {
      "text/plain": [
       "+----------+----+------+------+---+------+----+-----------+--------------+-----------+----------+--------------------+\n",
       "|total_bill| tip|   sex|smoker|day|  time|size|sex_indexed|smoker_indexed|day_indexed|time_index|Independent Features|\n",
       "+----------+----+------+------+---+------+----+-----------+--------------+-----------+----------+--------------------+\n",
       "|     16.99|1.01|Female|    No|Sun|Dinner|   2|        1.0|           0.0|        1.0|       0.0|[1.01,2.0,1.0,0.0...|\n",
       "|     10.34|1.66|  Male|    No|Sun|Dinner|   3|        0.0|           0.0|        1.0|       0.0|[1.66,3.0,0.0,0.0...|\n",
       "|     21.01| 3.5|  Male|    No|Sun|Dinner|   3|        0.0|           0.0|        1.0|       0.0|[3.5,3.0,0.0,0.0,...|\n",
       "|     23.68|3.31|  Male|    No|Sun|Dinner|   2|        0.0|           0.0|        1.0|       0.0|[3.31,2.0,0.0,0.0...|\n",
       "|     24.59|3.61|Female|    No|Sun|Dinner|   4|        1.0|           0.0|        1.0|       0.0|[3.61,4.0,1.0,0.0...|\n",
       "|     25.29|4.71|  Male|    No|Sun|Dinner|   4|        0.0|           0.0|        1.0|       0.0|[4.71,4.0,0.0,0.0...|\n",
       "|      8.77| 2.0|  Male|    No|Sun|Dinner|   2|        0.0|           0.0|        1.0|       0.0|[2.0,2.0,0.0,0.0,...|\n",
       "|     26.88|3.12|  Male|    No|Sun|Dinner|   4|        0.0|           0.0|        1.0|       0.0|[3.12,4.0,0.0,0.0...|\n",
       "|     15.04|1.96|  Male|    No|Sun|Dinner|   2|        0.0|           0.0|        1.0|       0.0|[1.96,2.0,0.0,0.0...|\n",
       "|     14.78|3.23|  Male|    No|Sun|Dinner|   2|        0.0|           0.0|        1.0|       0.0|[3.23,2.0,0.0,0.0...|\n",
       "|     10.27|1.71|  Male|    No|Sun|Dinner|   2|        0.0|           0.0|        1.0|       0.0|[1.71,2.0,0.0,0.0...|\n",
       "|     35.26| 5.0|Female|    No|Sun|Dinner|   4|        1.0|           0.0|        1.0|       0.0|[5.0,4.0,1.0,0.0,...|\n",
       "|     15.42|1.57|  Male|    No|Sun|Dinner|   2|        0.0|           0.0|        1.0|       0.0|[1.57,2.0,0.0,0.0...|\n",
       "|     18.43| 3.0|  Male|    No|Sun|Dinner|   4|        0.0|           0.0|        1.0|       0.0|[3.0,4.0,0.0,0.0,...|\n",
       "|     14.83|3.02|Female|    No|Sun|Dinner|   2|        1.0|           0.0|        1.0|       0.0|[3.02,2.0,1.0,0.0...|\n",
       "|     21.58|3.92|  Male|    No|Sun|Dinner|   2|        0.0|           0.0|        1.0|       0.0|[3.92,2.0,0.0,0.0...|\n",
       "|     10.33|1.67|Female|    No|Sun|Dinner|   3|        1.0|           0.0|        1.0|       0.0|[1.67,3.0,1.0,0.0...|\n",
       "|     16.29|3.71|  Male|    No|Sun|Dinner|   3|        0.0|           0.0|        1.0|       0.0|[3.71,3.0,0.0,0.0...|\n",
       "|     16.97| 3.5|Female|    No|Sun|Dinner|   3|        1.0|           0.0|        1.0|       0.0|[3.5,3.0,1.0,0.0,...|\n",
       "|     20.65|3.35|  Male|    No|Sat|Dinner|   3|        0.0|           0.0|        0.0|       0.0|(6,[0,1],[3.35,3.0])|\n",
       "+----------+----+------+------+---+------+----+-----------+--------------+-----------+----------+--------------------+\n",
       "only showing top 20 rows\n",
       "\n"
      ]
     },
     "metadata": {
      "application/vnd.databricks.v1+output": {
       "addedWidgets": {},
       "arguments": {},
       "data": "+----------+----+------+------+---+------+----+-----------+--------------+-----------+----------+--------------------+\n|total_bill| tip|   sex|smoker|day|  time|size|sex_indexed|smoker_indexed|day_indexed|time_index|Independent Features|\n+----------+----+------+------+---+------+----+-----------+--------------+-----------+----------+--------------------+\n|     16.99|1.01|Female|    No|Sun|Dinner|   2|        1.0|           0.0|        1.0|       0.0|[1.01,2.0,1.0,0.0...|\n|     10.34|1.66|  Male|    No|Sun|Dinner|   3|        0.0|           0.0|        1.0|       0.0|[1.66,3.0,0.0,0.0...|\n|     21.01| 3.5|  Male|    No|Sun|Dinner|   3|        0.0|           0.0|        1.0|       0.0|[3.5,3.0,0.0,0.0,...|\n|     23.68|3.31|  Male|    No|Sun|Dinner|   2|        0.0|           0.0|        1.0|       0.0|[3.31,2.0,0.0,0.0...|\n|     24.59|3.61|Female|    No|Sun|Dinner|   4|        1.0|           0.0|        1.0|       0.0|[3.61,4.0,1.0,0.0...|\n|     25.29|4.71|  Male|    No|Sun|Dinner|   4|        0.0|           0.0|        1.0|       0.0|[4.71,4.0,0.0,0.0...|\n|      8.77| 2.0|  Male|    No|Sun|Dinner|   2|        0.0|           0.0|        1.0|       0.0|[2.0,2.0,0.0,0.0,...|\n|     26.88|3.12|  Male|    No|Sun|Dinner|   4|        0.0|           0.0|        1.0|       0.0|[3.12,4.0,0.0,0.0...|\n|     15.04|1.96|  Male|    No|Sun|Dinner|   2|        0.0|           0.0|        1.0|       0.0|[1.96,2.0,0.0,0.0...|\n|     14.78|3.23|  Male|    No|Sun|Dinner|   2|        0.0|           0.0|        1.0|       0.0|[3.23,2.0,0.0,0.0...|\n|     10.27|1.71|  Male|    No|Sun|Dinner|   2|        0.0|           0.0|        1.0|       0.0|[1.71,2.0,0.0,0.0...|\n|     35.26| 5.0|Female|    No|Sun|Dinner|   4|        1.0|           0.0|        1.0|       0.0|[5.0,4.0,1.0,0.0,...|\n|     15.42|1.57|  Male|    No|Sun|Dinner|   2|        0.0|           0.0|        1.0|       0.0|[1.57,2.0,0.0,0.0...|\n|     18.43| 3.0|  Male|    No|Sun|Dinner|   4|        0.0|           0.0|        1.0|       0.0|[3.0,4.0,0.0,0.0,...|\n|     14.83|3.02|Female|    No|Sun|Dinner|   2|        1.0|           0.0|        1.0|       0.0|[3.02,2.0,1.0,0.0...|\n|     21.58|3.92|  Male|    No|Sun|Dinner|   2|        0.0|           0.0|        1.0|       0.0|[3.92,2.0,0.0,0.0...|\n|     10.33|1.67|Female|    No|Sun|Dinner|   3|        1.0|           0.0|        1.0|       0.0|[1.67,3.0,1.0,0.0...|\n|     16.29|3.71|  Male|    No|Sun|Dinner|   3|        0.0|           0.0|        1.0|       0.0|[3.71,3.0,0.0,0.0...|\n|     16.97| 3.5|Female|    No|Sun|Dinner|   3|        1.0|           0.0|        1.0|       0.0|[3.5,3.0,1.0,0.0,...|\n|     20.65|3.35|  Male|    No|Sat|Dinner|   3|        0.0|           0.0|        0.0|       0.0|(6,[0,1],[3.35,3.0])|\n+----------+----+------+------+---+------+----+-----------+--------------+-----------+----------+--------------------+\nonly showing top 20 rows\n\n",
       "datasetInfos": [],
       "metadata": {},
       "removedWidgets": [],
       "type": "ansi"
      }
     },
     "output_type": "display_data"
    }
   ],
   "source": [
    "output.show()"
   ]
  },
  {
   "cell_type": "code",
   "execution_count": null,
   "metadata": {
    "application/vnd.databricks.v1+cell": {
     "inputWidgets": {},
     "nuid": "b434027f-13e7-4274-b1a2-3bc6b8049e88",
     "showTitle": false,
     "title": ""
    }
   },
   "outputs": [],
   "source": [
    "finalized_data=output.select(\"Independent Features\",\"total_bill\")"
   ]
  },
  {
   "cell_type": "code",
   "execution_count": null,
   "metadata": {
    "application/vnd.databricks.v1+cell": {
     "inputWidgets": {},
     "nuid": "fde8f969-e33a-453b-9898-922e6708cd22",
     "showTitle": false,
     "title": ""
    }
   },
   "outputs": [
    {
     "data": {
      "text/plain": [
       "+--------------------+----------+\n",
       "|Independent Features|total_bill|\n",
       "+--------------------+----------+\n",
       "|[1.01,2.0,1.0,0.0...|     16.99|\n",
       "|[1.66,3.0,0.0,0.0...|     10.34|\n",
       "|[3.5,3.0,0.0,0.0,...|     21.01|\n",
       "|[3.31,2.0,0.0,0.0...|     23.68|\n",
       "|[3.61,4.0,1.0,0.0...|     24.59|\n",
       "|[4.71,4.0,0.0,0.0...|     25.29|\n",
       "|[2.0,2.0,0.0,0.0,...|      8.77|\n",
       "|[3.12,4.0,0.0,0.0...|     26.88|\n",
       "|[1.96,2.0,0.0,0.0...|     15.04|\n",
       "|[3.23,2.0,0.0,0.0...|     14.78|\n",
       "|[1.71,2.0,0.0,0.0...|     10.27|\n",
       "|[5.0,4.0,1.0,0.0,...|     35.26|\n",
       "|[1.57,2.0,0.0,0.0...|     15.42|\n",
       "|[3.0,4.0,0.0,0.0,...|     18.43|\n",
       "|[3.02,2.0,1.0,0.0...|     14.83|\n",
       "|[3.92,2.0,0.0,0.0...|     21.58|\n",
       "|[1.67,3.0,1.0,0.0...|     10.33|\n",
       "|[3.71,3.0,0.0,0.0...|     16.29|\n",
       "|[3.5,3.0,1.0,0.0,...|     16.97|\n",
       "|(6,[0,1],[3.35,3.0])|     20.65|\n",
       "+--------------------+----------+\n",
       "only showing top 20 rows\n",
       "\n"
      ]
     },
     "metadata": {
      "application/vnd.databricks.v1+output": {
       "addedWidgets": {},
       "arguments": {},
       "data": "+--------------------+----------+\n|Independent Features|total_bill|\n+--------------------+----------+\n|[1.01,2.0,1.0,0.0...|     16.99|\n|[1.66,3.0,0.0,0.0...|     10.34|\n|[3.5,3.0,0.0,0.0,...|     21.01|\n|[3.31,2.0,0.0,0.0...|     23.68|\n|[3.61,4.0,1.0,0.0...|     24.59|\n|[4.71,4.0,0.0,0.0...|     25.29|\n|[2.0,2.0,0.0,0.0,...|      8.77|\n|[3.12,4.0,0.0,0.0...|     26.88|\n|[1.96,2.0,0.0,0.0...|     15.04|\n|[3.23,2.0,0.0,0.0...|     14.78|\n|[1.71,2.0,0.0,0.0...|     10.27|\n|[5.0,4.0,1.0,0.0,...|     35.26|\n|[1.57,2.0,0.0,0.0...|     15.42|\n|[3.0,4.0,0.0,0.0,...|     18.43|\n|[3.02,2.0,1.0,0.0...|     14.83|\n|[3.92,2.0,0.0,0.0...|     21.58|\n|[1.67,3.0,1.0,0.0...|     10.33|\n|[3.71,3.0,0.0,0.0...|     16.29|\n|[3.5,3.0,1.0,0.0,...|     16.97|\n|(6,[0,1],[3.35,3.0])|     20.65|\n+--------------------+----------+\nonly showing top 20 rows\n\n",
       "datasetInfos": [],
       "metadata": {},
       "removedWidgets": [],
       "type": "ansi"
      }
     },
     "output_type": "display_data"
    }
   ],
   "source": [
    "finalized_data.show()"
   ]
  },
  {
   "cell_type": "code",
   "execution_count": null,
   "metadata": {
    "application/vnd.databricks.v1+cell": {
     "inputWidgets": {},
     "nuid": "66a3ab78-c8d8-44f0-8f49-949123adf73a",
     "showTitle": false,
     "title": ""
    }
   },
   "outputs": [],
   "source": [
    " from pyspark.ml.regression import LinearRegression\n",
    "##train test split\n",
    "train_data,test_data=finalized_data.randomSplit([0.75,0.25])\n",
    "regressor=LinearRegression(featuresCol='Independent Features', labelCol='total_bill')\n",
    "regressor=regressor.fit(train_data)"
   ]
  },
  {
   "cell_type": "code",
   "execution_count": null,
   "metadata": {
    "application/vnd.databricks.v1+cell": {
     "inputWidgets": {},
     "nuid": "cefd3991-7c46-4c6f-b7a2-1afbdb3ebe51",
     "showTitle": false,
     "title": ""
    }
   },
   "outputs": [
    {
     "data": {
      "text/plain": [
       "Out[15]: DenseVector([3.4254, 3.782, -0.9004, 1.4555, 0.1889, -0.8035])"
      ]
     },
     "metadata": {
      "application/vnd.databricks.v1+output": {
       "addedWidgets": {},
       "arguments": {},
       "data": "Out[15]: DenseVector([3.4254, 3.782, -0.9004, 1.4555, 0.1889, -0.8035])",
       "datasetInfos": [],
       "metadata": {},
       "removedWidgets": [],
       "type": "ansi"
      }
     },
     "output_type": "display_data"
    }
   ],
   "source": [
    "regressor.coefficients"
   ]
  },
  {
   "cell_type": "code",
   "execution_count": null,
   "metadata": {
    "application/vnd.databricks.v1+cell": {
     "inputWidgets": {},
     "nuid": "f839f154-e7af-4906-95ef-a5f4e544f9a2",
     "showTitle": false,
     "title": ""
    }
   },
   "outputs": [
    {
     "data": {
      "text/plain": [
       "Out[16]: -0.47698186243946716"
      ]
     },
     "metadata": {
      "application/vnd.databricks.v1+output": {
       "addedWidgets": {},
       "arguments": {},
       "data": "Out[16]: -0.47698186243946716",
       "datasetInfos": [],
       "metadata": {},
       "removedWidgets": [],
       "type": "ansi"
      }
     },
     "output_type": "display_data"
    }
   ],
   "source": [
    "regressor.intercept"
   ]
  },
  {
   "cell_type": "code",
   "execution_count": null,
   "metadata": {
    "application/vnd.databricks.v1+cell": {
     "inputWidgets": {},
     "nuid": "f55e4a6f-a785-449f-9b1c-cb4312abc346",
     "showTitle": false,
     "title": ""
    }
   },
   "outputs": [],
   "source": [
    "### Predictions\n",
    "pred_results=regressor.evaluate(test_data)"
   ]
  },
  {
   "cell_type": "code",
   "execution_count": null,
   "metadata": {
    "application/vnd.databricks.v1+cell": {
     "inputWidgets": {},
     "nuid": "c4e0b5bf-35d3-462a-a52d-68c373c30690",
     "showTitle": false,
     "title": ""
    }
   },
   "outputs": [
    {
     "data": {
      "text/plain": [
       "+--------------------+----------+------------------+\n",
       "|Independent Features|total_bill|        prediction|\n",
       "+--------------------+----------+------------------+\n",
       "|(6,[0,1],[1.25,2.0])|     10.51|11.368815837925256|\n",
       "|(6,[0,1],[1.75,2.0])|     17.82|13.081499670270768|\n",
       "|(6,[0,1],[2.31,3.0])|     18.69|18.781749622248217|\n",
       "| (6,[0,1],[2.5,4.0])|     18.35| 23.21461353828998|\n",
       "| (6,[0,1],[3.0,4.0])|     20.45|24.927297370635493|\n",
       "|(6,[0,1],[3.15,3.0])|     20.08|21.659058460588675|\n",
       "|(6,[0,1],[3.39,2.0])|     11.61| 18.69910264036405|\n",
       "|(6,[0,1],[4.08,2.0])|     17.92|21.062606329000857|\n",
       "| (6,[0,1],[4.3,2.0])|      21.7| 21.81618721523288|\n",
       "|[1.0,2.0,0.0,1.0,...|      12.6|11.967989385247728|\n",
       "|[1.0,2.0,1.0,1.0,...|      5.75| 11.63434992224887|\n",
       "|[1.17,2.0,0.0,1.0...|     32.83|12.550301888245203|\n",
       "|[1.25,2.0,1.0,0.0...|      8.51| 10.04273352226695|\n",
       "|[1.32,2.0,0.0,0.0...|      9.68|11.797511038523199|\n",
       "|[1.48,2.0,0.0,0.0...|      8.52|11.730965940353455|\n",
       "|[1.5,2.0,1.0,0.0,...|     26.41|11.324759898890441|\n",
       "|[1.5,2.0,1.0,0.0,...|      8.35|10.899075438439706|\n",
       "|[1.64,2.0,0.0,1.0...|     15.36|14.160224690649985|\n",
       "|[1.8,2.0,1.0,0.0,...|     12.43|11.926685737847013|\n",
       "|[1.83,1.0,1.0,0.0...|     10.07| 8.247402708037272|\n",
       "+--------------------+----------+------------------+\n",
       "only showing top 20 rows\n",
       "\n"
      ]
     },
     "metadata": {
      "application/vnd.databricks.v1+output": {
       "addedWidgets": {},
       "arguments": {},
       "data": "+--------------------+----------+------------------+\n|Independent Features|total_bill|        prediction|\n+--------------------+----------+------------------+\n|(6,[0,1],[1.25,2.0])|     10.51|11.368815837925256|\n|(6,[0,1],[1.75,2.0])|     17.82|13.081499670270768|\n|(6,[0,1],[2.31,3.0])|     18.69|18.781749622248217|\n| (6,[0,1],[2.5,4.0])|     18.35| 23.21461353828998|\n| (6,[0,1],[3.0,4.0])|     20.45|24.927297370635493|\n|(6,[0,1],[3.15,3.0])|     20.08|21.659058460588675|\n|(6,[0,1],[3.39,2.0])|     11.61| 18.69910264036405|\n|(6,[0,1],[4.08,2.0])|     17.92|21.062606329000857|\n| (6,[0,1],[4.3,2.0])|      21.7| 21.81618721523288|\n|[1.0,2.0,0.0,1.0,...|      12.6|11.967989385247728|\n|[1.0,2.0,1.0,1.0,...|      5.75| 11.63434992224887|\n|[1.17,2.0,0.0,1.0...|     32.83|12.550301888245203|\n|[1.25,2.0,1.0,0.0...|      8.51| 10.04273352226695|\n|[1.32,2.0,0.0,0.0...|      9.68|11.797511038523199|\n|[1.48,2.0,0.0,0.0...|      8.52|11.730965940353455|\n|[1.5,2.0,1.0,0.0,...|     26.41|11.324759898890441|\n|[1.5,2.0,1.0,0.0,...|      8.35|10.899075438439706|\n|[1.64,2.0,0.0,1.0...|     15.36|14.160224690649985|\n|[1.8,2.0,1.0,0.0,...|     12.43|11.926685737847013|\n|[1.83,1.0,1.0,0.0...|     10.07| 8.247402708037272|\n+--------------------+----------+------------------+\nonly showing top 20 rows\n\n",
       "datasetInfos": [],
       "metadata": {},
       "removedWidgets": [],
       "type": "ansi"
      }
     },
     "output_type": "display_data"
    }
   ],
   "source": [
    "## Final comparison\n",
    "pred_results.predictions.show()"
   ]
  },
  {
   "cell_type": "code",
   "execution_count": null,
   "metadata": {
    "application/vnd.databricks.v1+cell": {
     "inputWidgets": {},
     "nuid": "6b60ebca-6932-47b4-9e5c-232b5e56a811",
     "showTitle": false,
     "title": ""
    }
   },
   "outputs": [
    {
     "data": {
      "text/plain": [
       "Out[19]: (0.2983583943689324, 5.5071029297242635, 61.13637455341496)"
      ]
     },
     "metadata": {
      "application/vnd.databricks.v1+output": {
       "addedWidgets": {},
       "arguments": {},
       "data": "Out[19]: (0.2983583943689324, 5.5071029297242635, 61.13637455341496)",
       "datasetInfos": [],
       "metadata": {},
       "removedWidgets": [],
       "type": "ansi"
      }
     },
     "output_type": "display_data"
    }
   ],
   "source": [
    "### PErformance Metrics\n",
    "pred_results.r2,pred_results.meanAbsoluteError,pred_results.meanSquaredError"
   ]
  },
  {
   "cell_type": "code",
   "execution_count": null,
   "metadata": {
    "application/vnd.databricks.v1+cell": {
     "inputWidgets": {},
     "nuid": "c7548e7d-f1f3-4fdd-bfc7-df69d056e556",
     "showTitle": false,
     "title": ""
    }
   },
   "outputs": [
    {
     "data": {
      "text/plain": [
       "+--------------------+----------+------------------+\n",
       "|Independent Features|total_bill|        prediction|\n",
       "+--------------------+----------+------------------+\n",
       "|(6,[0,1],[1.25,2.0])|     10.51|11.368815837925256|\n",
       "|(6,[0,1],[1.75,2.0])|     17.82|13.081499670270768|\n",
       "|(6,[0,1],[2.31,3.0])|     18.69|18.781749622248217|\n",
       "| (6,[0,1],[2.5,4.0])|     18.35| 23.21461353828998|\n",
       "| (6,[0,1],[3.0,4.0])|     20.45|24.927297370635493|\n",
       "|(6,[0,1],[3.15,3.0])|     20.08|21.659058460588675|\n",
       "|(6,[0,1],[3.39,2.0])|     11.61| 18.69910264036405|\n",
       "|(6,[0,1],[4.08,2.0])|     17.92|21.062606329000857|\n",
       "| (6,[0,1],[4.3,2.0])|      21.7| 21.81618721523288|\n",
       "|[1.0,2.0,0.0,1.0,...|      12.6|11.967989385247728|\n",
       "|[1.0,2.0,1.0,1.0,...|      5.75| 11.63434992224887|\n",
       "|[1.17,2.0,0.0,1.0...|     32.83|12.550301888245203|\n",
       "|[1.25,2.0,1.0,0.0...|      8.51| 10.04273352226695|\n",
       "|[1.32,2.0,0.0,0.0...|      9.68|11.797511038523199|\n",
       "|[1.48,2.0,0.0,0.0...|      8.52|11.730965940353455|\n",
       "|[1.5,2.0,1.0,0.0,...|     26.41|11.324759898890441|\n",
       "|[1.5,2.0,1.0,0.0,...|      8.35|10.899075438439706|\n",
       "|[1.64,2.0,0.0,1.0...|     15.36|14.160224690649985|\n",
       "|[1.8,2.0,1.0,0.0,...|     12.43|11.926685737847013|\n",
       "|[1.83,1.0,1.0,0.0...|     10.07| 8.247402708037272|\n",
       "+--------------------+----------+------------------+\n",
       "only showing top 20 rows\n",
       "\n"
      ]
     },
     "metadata": {
      "application/vnd.databricks.v1+output": {
       "addedWidgets": {},
       "arguments": {},
       "data": "+--------------------+----------+------------------+\n|Independent Features|total_bill|        prediction|\n+--------------------+----------+------------------+\n|(6,[0,1],[1.25,2.0])|     10.51|11.368815837925256|\n|(6,[0,1],[1.75,2.0])|     17.82|13.081499670270768|\n|(6,[0,1],[2.31,3.0])|     18.69|18.781749622248217|\n| (6,[0,1],[2.5,4.0])|     18.35| 23.21461353828998|\n| (6,[0,1],[3.0,4.0])|     20.45|24.927297370635493|\n|(6,[0,1],[3.15,3.0])|     20.08|21.659058460588675|\n|(6,[0,1],[3.39,2.0])|     11.61| 18.69910264036405|\n|(6,[0,1],[4.08,2.0])|     17.92|21.062606329000857|\n| (6,[0,1],[4.3,2.0])|      21.7| 21.81618721523288|\n|[1.0,2.0,0.0,1.0,...|      12.6|11.967989385247728|\n|[1.0,2.0,1.0,1.0,...|      5.75| 11.63434992224887|\n|[1.17,2.0,0.0,1.0...|     32.83|12.550301888245203|\n|[1.25,2.0,1.0,0.0...|      8.51| 10.04273352226695|\n|[1.32,2.0,0.0,0.0...|      9.68|11.797511038523199|\n|[1.48,2.0,0.0,0.0...|      8.52|11.730965940353455|\n|[1.5,2.0,1.0,0.0,...|     26.41|11.324759898890441|\n|[1.5,2.0,1.0,0.0,...|      8.35|10.899075438439706|\n|[1.64,2.0,0.0,1.0...|     15.36|14.160224690649985|\n|[1.8,2.0,1.0,0.0,...|     12.43|11.926685737847013|\n|[1.83,1.0,1.0,0.0...|     10.07| 8.247402708037272|\n+--------------------+----------+------------------+\nonly showing top 20 rows\n\n",
       "datasetInfos": [],
       "metadata": {},
       "removedWidgets": [],
       "type": "ansi"
      }
     },
     "output_type": "display_data"
    }
   ],
   "source": [
    "pred_results.predictions.show()"
   ]
  },
  {
   "cell_type": "code",
   "execution_count": null,
   "metadata": {
    "application/vnd.databricks.v1+cell": {
     "inputWidgets": {},
     "nuid": "25017f3b-ca6c-4696-889f-9d5685f1a3ae",
     "showTitle": false,
     "title": ""
    }
   },
   "outputs": [
    {
     "data": {
      "text/plain": [
       "+----------+----+------+------+---+------+----+\n",
       "|total_bill| tip|   sex|smoker|day|  time|size|\n",
       "+----------+----+------+------+---+------+----+\n",
       "|     16.99|1.01|Female|    No|Sun|Dinner|   2|\n",
       "|     10.34|1.66|  Male|    No|Sun|Dinner|   3|\n",
       "|     21.01| 3.5|  Male|    No|Sun|Dinner|   3|\n",
       "|     23.68|3.31|  Male|    No|Sun|Dinner|   2|\n",
       "|     24.59|3.61|Female|    No|Sun|Dinner|   4|\n",
       "|     25.29|4.71|  Male|    No|Sun|Dinner|   4|\n",
       "|      8.77| 2.0|  Male|    No|Sun|Dinner|   2|\n",
       "|     26.88|3.12|  Male|    No|Sun|Dinner|   4|\n",
       "|     15.04|1.96|  Male|    No|Sun|Dinner|   2|\n",
       "|     14.78|3.23|  Male|    No|Sun|Dinner|   2|\n",
       "|     10.27|1.71|  Male|    No|Sun|Dinner|   2|\n",
       "|     35.26| 5.0|Female|    No|Sun|Dinner|   4|\n",
       "|     15.42|1.57|  Male|    No|Sun|Dinner|   2|\n",
       "|     18.43| 3.0|  Male|    No|Sun|Dinner|   4|\n",
       "|     14.83|3.02|Female|    No|Sun|Dinner|   2|\n",
       "|     21.58|3.92|  Male|    No|Sun|Dinner|   2|\n",
       "|     10.33|1.67|Female|    No|Sun|Dinner|   3|\n",
       "|     16.29|3.71|  Male|    No|Sun|Dinner|   3|\n",
       "|     16.97| 3.5|Female|    No|Sun|Dinner|   3|\n",
       "|     20.65|3.35|  Male|    No|Sat|Dinner|   3|\n",
       "+----------+----+------+------+---+------+----+\n",
       "only showing top 20 rows\n",
       "\n"
      ]
     },
     "metadata": {
      "application/vnd.databricks.v1+output": {
       "addedWidgets": {},
       "arguments": {},
       "data": "+----------+----+------+------+---+------+----+\n|total_bill| tip|   sex|smoker|day|  time|size|\n+----------+----+------+------+---+------+----+\n|     16.99|1.01|Female|    No|Sun|Dinner|   2|\n|     10.34|1.66|  Male|    No|Sun|Dinner|   3|\n|     21.01| 3.5|  Male|    No|Sun|Dinner|   3|\n|     23.68|3.31|  Male|    No|Sun|Dinner|   2|\n|     24.59|3.61|Female|    No|Sun|Dinner|   4|\n|     25.29|4.71|  Male|    No|Sun|Dinner|   4|\n|      8.77| 2.0|  Male|    No|Sun|Dinner|   2|\n|     26.88|3.12|  Male|    No|Sun|Dinner|   4|\n|     15.04|1.96|  Male|    No|Sun|Dinner|   2|\n|     14.78|3.23|  Male|    No|Sun|Dinner|   2|\n|     10.27|1.71|  Male|    No|Sun|Dinner|   2|\n|     35.26| 5.0|Female|    No|Sun|Dinner|   4|\n|     15.42|1.57|  Male|    No|Sun|Dinner|   2|\n|     18.43| 3.0|  Male|    No|Sun|Dinner|   4|\n|     14.83|3.02|Female|    No|Sun|Dinner|   2|\n|     21.58|3.92|  Male|    No|Sun|Dinner|   2|\n|     10.33|1.67|Female|    No|Sun|Dinner|   3|\n|     16.29|3.71|  Male|    No|Sun|Dinner|   3|\n|     16.97| 3.5|Female|    No|Sun|Dinner|   3|\n|     20.65|3.35|  Male|    No|Sat|Dinner|   3|\n+----------+----+------+------+---+------+----+\nonly showing top 20 rows\n\n",
       "datasetInfos": [],
       "metadata": {},
       "removedWidgets": [],
       "type": "ansi"
      }
     },
     "output_type": "display_data"
    }
   ],
   "source": [
    "df.show()"
   ]
  },
  {
   "cell_type": "code",
   "execution_count": null,
   "metadata": {
    "application/vnd.databricks.v1+cell": {
     "inputWidgets": {},
     "nuid": "4396cf94-e6e8-4025-a8d8-8a64056c2f1e",
     "showTitle": false,
     "title": ""
    }
   },
   "outputs": [],
   "source": []
  }
 ],
 "metadata": {
  "application/vnd.databricks.v1+notebook": {
   "dashboards": [],
   "language": "python",
   "notebookMetadata": {
    "pythonIndentUnit": 4
   },
   "notebookName": "Linear regression Pyspark with Ml",
   "notebookOrigID": 145318960209329,
   "widgets": {}
  },
  "kernelspec": {
   "display_name": "Python 3 (ipykernel)",
   "language": "python",
   "name": "python3"
  },
  "language_info": {
   "codemirror_mode": {
    "name": "ipython",
    "version": 3
   },
   "file_extension": ".py",
   "mimetype": "text/x-python",
   "name": "python",
   "nbconvert_exporter": "python",
   "pygments_lexer": "ipython3",
   "version": "3.10.4"
  }
 },
 "nbformat": 4,
 "nbformat_minor": 4
}
