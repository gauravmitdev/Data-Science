{
 "cells": [
  {
   "cell_type": "markdown",
   "id": "0fe8a58a-a654-49b4-907a-f4b358ef0eca",
   "metadata": {},
   "source": [
    "### Pyspark Tutorials\n",
    "- Filter Operations\n",
    "- & | \n",
    "- ~"
   ]
  },
  {
   "cell_type": "code",
   "execution_count": 1,
   "id": "d26aacb4-fa89-4241-9932-91982853d4e7",
   "metadata": {},
   "outputs": [
    {
     "data": {
      "text/html": [
       "\n",
       "            <div>\n",
       "                <p><b>SparkSession - in-memory</b></p>\n",
       "                \n",
       "        <div>\n",
       "            <p><b>SparkContext</b></p>\n",
       "\n",
       "            <p><a href=\"http://host.docker.internal:4040\">Spark UI</a></p>\n",
       "\n",
       "            <dl>\n",
       "              <dt>Version</dt>\n",
       "                <dd><code>v3.3.0</code></dd>\n",
       "              <dt>Master</dt>\n",
       "                <dd><code>local[*]</code></dd>\n",
       "              <dt>AppName</dt>\n",
       "                <dd><code>pyspark4</code></dd>\n",
       "            </dl>\n",
       "        </div>\n",
       "        \n",
       "            </div>\n",
       "        "
      ],
      "text/plain": [
       "<pyspark.sql.session.SparkSession at 0x20bdd634970>"
      ]
     },
     "execution_count": 1,
     "metadata": {},
     "output_type": "execute_result"
    }
   ],
   "source": [
    "from pyspark.sql import SparkSession\n",
    "spark = SparkSession.builder.appName(\"pyspark4\").getOrCreate()\n",
    "spark"
   ]
  },
  {
   "cell_type": "code",
   "execution_count": 2,
   "id": "9820e776-c460-4a42-b1d3-08d27e09f489",
   "metadata": {},
   "outputs": [
    {
     "data": {
      "text/plain": [
       "DataFrame[Name: string, Age: int, Experiances: int, Salary: int]"
      ]
     },
     "execution_count": 2,
     "metadata": {},
     "output_type": "execute_result"
    }
   ],
   "source": [
    "df = spark.read.csv('test4.csv',header=True,inferSchema=True)\n",
    "df"
   ]
  },
  {
   "cell_type": "code",
   "execution_count": 3,
   "id": "76023bd5-c78b-41e1-8a55-732bf4af32a2",
   "metadata": {},
   "outputs": [
    {
     "name": "stdout",
     "output_type": "stream",
     "text": [
      "+-------+---+-----------+------+\n",
      "|   Name|Age|Experiances|Salary|\n",
      "+-------+---+-----------+------+\n",
      "|Vaibhav| 31|          4| 30000|\n",
      "|  Lrish| 25|          6| 15000|\n",
      "|  Vikas| 29|         12| 20000|\n",
      "| Gaurav| 39|          9| 60000|\n",
      "| Kailas| 34|         15|  3000|\n",
      "|Bhavesh| 30|          3|  1500|\n",
      "|  Vidhi| 21|          6|  4000|\n",
      "|  Sunny| 29|          9|  9000|\n",
      "|   Paul| 24|          4|  7000|\n",
      "|  Harsa| 29|          5|  6000|\n",
      "|Shubham| 41|          2|  1000|\n",
      "+-------+---+-----------+------+\n",
      "\n"
     ]
    }
   ],
   "source": [
    "df.show()"
   ]
  },
  {
   "cell_type": "markdown",
   "id": "c1cc129f-9c27-4ddf-8c7d-e1f13ffe1801",
   "metadata": {},
   "source": [
    "### Filter Operations"
   ]
  },
  {
   "cell_type": "code",
   "execution_count": 4,
   "id": "e8ab08f1-1ed8-4cca-aaeb-f4123dafe111",
   "metadata": {},
   "outputs": [
    {
     "name": "stdout",
     "output_type": "stream",
     "text": [
      "+-------+---+-----------+------+\n",
      "|   Name|Age|Experiances|Salary|\n",
      "+-------+---+-----------+------+\n",
      "|  Lrish| 25|          6| 15000|\n",
      "|  Vikas| 29|         12| 20000|\n",
      "| Kailas| 34|         15|  3000|\n",
      "|Bhavesh| 30|          3|  1500|\n",
      "|  Vidhi| 21|          6|  4000|\n",
      "|  Sunny| 29|          9|  9000|\n",
      "|   Paul| 24|          4|  7000|\n",
      "|  Harsa| 29|          5|  6000|\n",
      "|Shubham| 41|          2|  1000|\n",
      "+-------+---+-----------+------+\n",
      "\n"
     ]
    }
   ],
   "source": [
    "### Salary of the people less than or equla to 20000\n",
    "\n",
    "df.filter(\"Salary<=20000\").show()"
   ]
  },
  {
   "cell_type": "code",
   "execution_count": 5,
   "id": "21531a2c-46f7-4e90-bb96-904aeaa2c5a9",
   "metadata": {},
   "outputs": [
    {
     "name": "stdout",
     "output_type": "stream",
     "text": [
      "+-------+---+\n",
      "|   Name|Age|\n",
      "+-------+---+\n",
      "|  Lrish| 25|\n",
      "|  Vikas| 29|\n",
      "| Kailas| 34|\n",
      "|Bhavesh| 30|\n",
      "|  Vidhi| 21|\n",
      "|  Sunny| 29|\n",
      "|   Paul| 24|\n",
      "|  Harsa| 29|\n",
      "|Shubham| 41|\n",
      "+-------+---+\n",
      "\n"
     ]
    }
   ],
   "source": [
    "df.filter(\"Salary<=20000\").select([\"Name\",\"Age\"]).show()"
   ]
  },
  {
   "cell_type": "code",
   "execution_count": 6,
   "id": "abca0f8f-1b10-4df0-808f-050d7afa2daf",
   "metadata": {},
   "outputs": [
    {
     "name": "stdout",
     "output_type": "stream",
     "text": [
      "+-------+---+-----------+------+\n",
      "|   Name|Age|Experiances|Salary|\n",
      "+-------+---+-----------+------+\n",
      "|  Lrish| 25|          6| 15000|\n",
      "|  Vikas| 29|         12| 20000|\n",
      "| Kailas| 34|         15|  3000|\n",
      "|Bhavesh| 30|          3|  1500|\n",
      "|  Vidhi| 21|          6|  4000|\n",
      "|  Sunny| 29|          9|  9000|\n",
      "|   Paul| 24|          4|  7000|\n",
      "|  Harsa| 29|          5|  6000|\n",
      "|Shubham| 41|          2|  1000|\n",
      "+-------+---+-----------+------+\n",
      "\n"
     ]
    }
   ],
   "source": [
    "df.filter(df[\"Salary\"]<=20000).show()"
   ]
  },
  {
   "cell_type": "code",
   "execution_count": 9,
   "id": "cf2a1f9c-04fb-4d65-9f98-3cd01fd8d27e",
   "metadata": {},
   "outputs": [
    {
     "name": "stdout",
     "output_type": "stream",
     "text": [
      "+-----+---+-----------+------+\n",
      "| Name|Age|Experiances|Salary|\n",
      "+-----+---+-----------+------+\n",
      "|Lrish| 25|          6| 15000|\n",
      "|Vikas| 29|         12| 20000|\n",
      "+-----+---+-----------+------+\n",
      "\n"
     ]
    }
   ],
   "source": [
    "##  And method\n",
    "df.filter((df[\"Salary\"]<=20000) & (df[\"Salary\"]>=15000)).show()"
   ]
  },
  {
   "cell_type": "code",
   "execution_count": 10,
   "id": "7edc6f20-f8b3-4ead-a8b1-feed5348816d",
   "metadata": {},
   "outputs": [
    {
     "name": "stdout",
     "output_type": "stream",
     "text": [
      "+-------+---+-----------+------+\n",
      "|   Name|Age|Experiances|Salary|\n",
      "+-------+---+-----------+------+\n",
      "|Vaibhav| 31|          4| 30000|\n",
      "|  Lrish| 25|          6| 15000|\n",
      "|  Vikas| 29|         12| 20000|\n",
      "| Gaurav| 39|          9| 60000|\n",
      "| Kailas| 34|         15|  3000|\n",
      "|Bhavesh| 30|          3|  1500|\n",
      "|  Vidhi| 21|          6|  4000|\n",
      "|  Sunny| 29|          9|  9000|\n",
      "|   Paul| 24|          4|  7000|\n",
      "|  Harsa| 29|          5|  6000|\n",
      "|Shubham| 41|          2|  1000|\n",
      "+-------+---+-----------+------+\n",
      "\n"
     ]
    }
   ],
   "source": [
    "### OR method\n",
    "\n",
    "df.filter((df[\"Salary\"]<=20000) | (df[\"Salary\"]>=15000)).show()"
   ]
  },
  {
   "cell_type": "code",
   "execution_count": 11,
   "id": "7e671320-d2d6-4768-b815-08ef0bb05c4e",
   "metadata": {},
   "outputs": [
    {
     "name": "stdout",
     "output_type": "stream",
     "text": [
      "+-------+---+-----------+------+\n",
      "|   Name|Age|Experiances|Salary|\n",
      "+-------+---+-----------+------+\n",
      "|Vaibhav| 31|          4| 30000|\n",
      "| Gaurav| 39|          9| 60000|\n",
      "+-------+---+-----------+------+\n",
      "\n"
     ]
    }
   ],
   "source": [
    "### NOT filter or Inverse Filter\n",
    "\n",
    "df.filter(~(df[\"Salary\"]<=20000)).show()"
   ]
  },
  {
   "cell_type": "code",
   "execution_count": null,
   "id": "ea2bb4b6-cc30-4d3f-a76b-50dabd10aebe",
   "metadata": {},
   "outputs": [],
   "source": []
  }
 ],
 "metadata": {
  "kernelspec": {
   "display_name": "Python 3 (ipykernel)",
   "language": "python",
   "name": "python3"
  },
  "language_info": {
   "codemirror_mode": {
    "name": "ipython",
    "version": 3
   },
   "file_extension": ".py",
   "mimetype": "text/x-python",
   "name": "python",
   "nbconvert_exporter": "python",
   "pygments_lexer": "ipython3",
   "version": "3.10.4"
  }
 },
 "nbformat": 4,
 "nbformat_minor": 5
}
